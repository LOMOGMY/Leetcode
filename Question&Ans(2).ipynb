{
 "cells": [
  {
   "cell_type": "markdown",
   "metadata": {},
   "source": [
    "### [121. Best Time to Buy and Sell Stock](https://leetcode.com/problems/best-time-to-buy-and-sell-stock/)"
   ]
  },
  {
   "cell_type": "markdown",
   "metadata": {},
   "source": [
    "Say you have an array for which the ith element is the price of a given stock on day i.\n",
    "\n",
    "If you were only permitted to complete at most one transaction (i.e., buy one and sell one share of the stock), design an algorithm to find the maximum profit.\n",
    "\n",
    "Note that you cannot sell a stock before you buy one."
   ]
  },
  {
   "cell_type": "code",
   "execution_count": 38,
   "metadata": {},
   "outputs": [],
   "source": [
    "class Solution:\n",
    "    def maxProfit(self, prices):\n",
    "        if len(prices) < 2:\n",
    "            return 0\n",
    "        \n",
    "        p = prices[1] - prices[0]\n",
    "        b = prices[0]\n",
    "        for i in range(1,len(prices)):\n",
    "            p = max(prices[i] - b, p) # sell\n",
    "            b = min(prices[i],b)  # buy\n",
    "        return max(p,0)\n"
   ]
  },
  {
   "cell_type": "markdown",
   "metadata": {},
   "source": [
    "### [122. Best Time to Buy and Sell Stock II](https://leetcode.com/problems/best-time-to-buy-and-sell-stock-ii/)"
   ]
  },
  {
   "cell_type": "markdown",
   "metadata": {},
   "source": [
    "Say you have an array prices for which the ith element is the price of a given stock on day i.\n",
    "\n",
    "Design an algorithm to find the maximum profit. You may complete as many transactions as you like (i.e., buy one and sell one share of the stock multiple times).\n",
    "\n",
    "Note: You may not engage in multiple transactions at the same time (i.e., you must sell the stock before you buy again)."
   ]
  },
  {
   "cell_type": "code",
   "execution_count": 39,
   "metadata": {},
   "outputs": [],
   "source": [
    "# 思路就是只要第二天比前一天的贵，那就前一天买后一天卖，然后叠加到最后\n",
    "class Solution:\n",
    "    def maxProfit(self, prices):\n",
    "        if not prices:\n",
    "            return 0\n",
    "        total = 0\n",
    "        for i in range(1,len(prices)):\n",
    "            if prices[i]-prices[i-1]>0:\n",
    "                total += prices[i]-prices[i-1]\n",
    "        return total\n",
    "\n",
    "# 动态规划通解\n",
    "class Solution:\n",
    "    def maxProfit(self, prices):\n",
    "        if not prices: return 0\n",
    "        res = 0\n",
    "        profit = [[0 for i in range(2)] for i in range(len(prices))]\n",
    "        profit[0][0], profit[0][1] = 0, -prices[0]\n",
    "        # profit[0][0]表示第0天手上没有股票，profit[0][1]表示第0天手中有股票\n",
    "        for i in range(1, len(prices)):\n",
    "            profit[i][0] = max(profit[i-1][0], profit[i-1][1] + prices[i])\n",
    "            profit[i][1] = max(profit[i-1][1], profit[i-1][0] - prices[i])\n",
    "            res = max(res, profit[i][0], profit[i][1])\n",
    "        return res"
   ]
  },
  {
   "cell_type": "markdown",
   "metadata": {},
   "source": [
    "### 升级版题目\n",
    "### [123. Best Time to Buy and Sell Stock III](https://leetcode.com/problems/best-time-to-buy-and-sell-stock-iii/)\n",
    "### [188. Best Time to Buy and Sell Stock IV](https://leetcode.com/problems/best-time-to-buy-and-sell-stock-iv/)\n",
    "\n",
    "### 暂放"
   ]
  },
  {
   "cell_type": "markdown",
   "metadata": {},
   "source": [
    "状态转移方程\n",
    "\n",
    "$MP[i,k,0]中，i表示第i天，k表示之前已经进行了k次交易（买了再卖出去算一次交易），0表示目前手中没有股票，1表示目前手中持有股票（这道题的前提是必须得卖了手上持有的股票才能再买新的股票）。MP[i]表示第i天的最大的收益\n",
    "\n",
    "$$ MP[i,k,0]=Max\\left\\{\n",
    "\\begin{aligned}\n",
    "MP[i-1,k,0]\\\\\n",
    "\\\\\n",
    "MP[i-1,k-1,1]+prices[i]\n",
    "\\end{aligned}\n",
    "\\right.$$\n",
    "\n",
    "$$ MP[i,k,1]=Max\\left\\{\n",
    "\\begin{aligned}\n",
    "MP[i-1,k,1] \\\\\n",
    "\\\\\n",
    "MP[i-1,k-1,0]-prices[i]\n",
    "\\end{aligned}\n",
    "\\right.$$ \n",
    "\n",
    "最后return $MAX[MP[n-1],[0,1,2...k],0]$"
   ]
  },
  {
   "cell_type": "code",
   "execution_count": 34,
   "metadata": {},
   "outputs": [],
   "source": [
    "class Solution:\n",
    "    def maxProfit(self, k, prices):\n",
    "        if not k or not prices: return 0"
   ]
  },
  {
   "cell_type": "markdown",
   "metadata": {},
   "source": [
    "### [169. Majority Element](https://leetcode.com/problems/majority-element/)"
   ]
  },
  {
   "cell_type": "markdown",
   "metadata": {},
   "source": [
    "Given an array of size n, find the majority element. The majority element is the element that appears more than ⌊ n/2 ⌋ times.\n",
    "\n",
    "You may assume that the array is non-empty and the majority element always exist in the array."
   ]
  },
  {
   "cell_type": "code",
   "execution_count": 4,
   "metadata": {},
   "outputs": [
    {
     "data": {
      "text/plain": [
       "[(4, 5)]"
      ]
     },
     "execution_count": 4,
     "metadata": {},
     "output_type": "execute_result"
    }
   ],
   "source": [
    "from collections import Counter\n",
    "class Solution:\n",
    "    def majorityElement(self, nums):\n",
    "        a = Counter(nums)\n",
    "        for i,j in a.items():\n",
    "            if j > len(nums)//2:\n",
    "                return i\n",
    "\n",
    "#  Counter().most_commo(1)可以输出出现次数最多的那个元素的列表,如下\n",
    "Counter([1,2,2,3,3,3,4,4,4,4,4]).most_common(1)"
   ]
  },
  {
   "cell_type": "code",
   "execution_count": 10,
   "metadata": {},
   "outputs": [
    {
     "data": {
      "text/plain": [
       "2"
      ]
     },
     "execution_count": 10,
     "metadata": {},
     "output_type": "execute_result"
    }
   ],
   "source": [
    "# 法二\n",
    "from collections import Counter\n",
    "class Solution:\n",
    "    def majorityElement(self, nums):\n",
    "        num_occ_dict = Counter(nums)\n",
    "        return max(num_occ_dict, key = lambda k:num_occ_dict[k])\n",
    "# 此处为max函数的高级用法\n",
    "\n",
    "max({1:100,2:400}, key = lambda k:{1:100,2:400}[k])"
   ]
  },
  {
   "cell_type": "markdown",
   "metadata": {},
   "source": [
    "### [198. House Robber](https://leetcode.com/problems/house-robber/)"
   ]
  },
  {
   "cell_type": "markdown",
   "metadata": {},
   "source": [
    "You are a professional robber planning to rob houses along a street. Each house has a certain amount of money stashed, the only constraint stopping you from robbing each of them is that adjacent houses have security system connected and it will automatically contact the police if two adjacent houses were broken into on the same night.\n",
    "\n",
    "Given a list of non-negative integers representing the amount of money of each house, determine the maximum amount of money you can rob tonight without alerting the police."
   ]
  },
  {
   "cell_type": "markdown",
   "metadata": {},
   "source": [
    "#### 动态规划 (关键词：overlap sub-problem)"
   ]
  },
  {
   "cell_type": "code",
   "execution_count": 17,
   "metadata": {},
   "outputs": [],
   "source": [
    "class Solution:\n",
    "    def rob(self, nums):\n",
    "        nums = [0] + nums   # 为了使得下一行 len(nums) 不出错（nums长度为2的情况）\n",
    "        for i in range(2, len(nums)):\n",
    "            nums[i] = max(nums[i-1], nums[i-2] + nums[i])\n",
    "        return nums[-1]"
   ]
  },
  {
   "cell_type": "code",
   "execution_count": 21,
   "metadata": {},
   "outputs": [
    {
     "data": {
      "text/plain": [
       "13.0"
      ]
     },
     "execution_count": 21,
     "metadata": {},
     "output_type": "execute_result"
    }
   ],
   "source": [
    "# 迭代调用和动态规划\n",
    "import numpy as np\n",
    "arr = [4,1,1,9,1]\n",
    "\n",
    "def rec_opt(arr, i):           # 迭代调用\n",
    "    if i == 0:\n",
    "        return arr[0]\n",
    "    elif i == 1:\n",
    "        return max(arr[0], arr[1])\n",
    "    else:\n",
    "        A = rec_opt(arr,i-2) + arr[i]  # A的含义就是选择窃取第i家\n",
    "        B = rec_opt(arr,i-2) # B的含义是选择不窃取第i家\n",
    "        return max(A,B)\n",
    "\n",
    "def dp_opt(arr):               # 动态规划\n",
    "    opt = np.zeros(len(arr))  # 构造出一个array长度与arr一样\n",
    "    opt[0] = arr[0]\n",
    "    opt[1] = max(arr[0], arr[1])\n",
    "    for i in range(2, len(arr)):\n",
    "        A = opt[i-2] + arr[i]\n",
    "        B = opt[i-1]\n",
    "        opt[i] = max(A,B)\n",
    "    return opt[len(arr)-1]\n",
    "dp_opt(arr)"
   ]
  },
  {
   "cell_type": "markdown",
   "metadata": {},
   "source": [
    "### [283. Move Zeroes](https://leetcode.com/problems/move-zeroes/)"
   ]
  },
  {
   "cell_type": "markdown",
   "metadata": {},
   "source": [
    "Given an array nums, write a function to move all 0's to the end of it while maintaining the relative order of the non-zero elements."
   ]
  },
  {
   "cell_type": "code",
   "execution_count": 19,
   "metadata": {},
   "outputs": [],
   "source": [
    "class Solution(object):\n",
    "    def moveZeroes(self, nums):\n",
    "        index = 0\n",
    "        for n in nums:\n",
    "            if n != 0:\n",
    "                nums[index] = n\n",
    "                index += 1\n",
    "        for i in range(index, len(nums)):\n",
    "            nums[i] = 0\n",
    "        return nums"
   ]
  },
  {
   "cell_type": "markdown",
   "metadata": {},
   "source": [
    "### [322. Coin Change](https://leetcode.com/problems/coin-change/) （动态规划，重点）\n",
    "You are given coins of different denominations and a total amount of money amount. Write a function to compute the fewest number of coins that you need to make up that amount. If that amount of money cannot be made up by any combination of the coins, return -1."
   ]
  },
  {
   "cell_type": "code",
   "execution_count": 41,
   "metadata": {},
   "outputs": [],
   "source": [
    "class Solution:\n",
    "    def coinChange(self, coins, amount):\n",
    "        if not coins or amount <= 0:\n",
    "            return 0\n",
    "        \n",
    "        f = [float('inf')] * (amount + 1) # 初始除了0所有值定义为无穷大，意为暂时无解\n",
    "        # f[i]的含义是，凑够i这么多钱的情况下所需的最少硬币数量\n",
    "        f[0] = 0\n",
    "        for i in range(1, amount + 1):          # amount从1到amount每一个都算出需要的最少硬币个数\n",
    "            for c in coins:\n",
    "                if i >= c:\n",
    "                    f[i] = min(f[i], f[i - c] + 1)  # 若f[i-c]没有被更新过，加完1后依然是inf\n",
    "        return f[amount] if f[amount] != float('inf') else -1"
   ]
  },
  {
   "cell_type": "markdown",
   "metadata": {},
   "source": [
    "### [338. Counting Bits](https://leetcode.com/problems/counting-bits/)"
   ]
  },
  {
   "cell_type": "markdown",
   "metadata": {},
   "source": [
    "Given a non negative integer number num. For every numbers i in the range 0 ≤ i ≤ num calculate the number of 1's in their binary representation and return them as an array."
   ]
  },
  {
   "cell_type": "code",
   "execution_count": 92,
   "metadata": {},
   "outputs": [],
   "source": [
    "# 用python内置函数\n",
    "class Solution:\n",
    "    def countBits(self, num: int):\n",
    "        fin = []\n",
    "        for n in range(1,num+1):\n",
    "            fin.append(format(n,'b').count('1'))\n",
    "        return [0]+fin\n",
    "    \n",
    "# DP(和dp没什么关系)\n",
    "class Solution(object):\n",
    "    def countBits(self, num):\n",
    "        if num == 0: return [0]\n",
    "        dp = [0]*(num+1)\n",
    "        dp[0] = 0\n",
    "        dp[1] = 1\n",
    "        for i in range(2, num+1):\n",
    "            if i%2 == 0: \n",
    "                dp[i] = dp[int(i/2)]\n",
    "            else: dp[i] = 1 + dp[i-1]\n",
    "        return dp\n",
    "\n",
    "# 一行\n",
    "def countBits(num):\n",
    "    return [list(bin(i)[2:]).count('1') for i in range(num+1)]\n",
    "        # bin(3) 为 '0b11' 所以需要[2:]"
   ]
  },
  {
   "cell_type": "markdown",
   "metadata": {},
   "source": [
    "### [494. Target Sum](https://leetcode.com/problems/target-sum/) *"
   ]
  },
  {
   "cell_type": "markdown",
   "metadata": {},
   "source": [
    "You are given a list of non-negative integers, a1, a2, ..., an, and a target, S. Now you have 2 symbols + and -. For each integer, you should choose one from + and - as its new symbol.\n",
    "\n",
    "Find out how many ways to assign symbols to make sum of integers equal to target S."
   ]
  },
  {
   "cell_type": "markdown",
   "metadata": {},
   "source": [
    "#### 迭代 （会出现Time Limit Exceeded）"
   ]
  },
  {
   "cell_type": "code",
   "execution_count": 107,
   "metadata": {},
   "outputs": [
    {
     "name": "stdout",
     "output_type": "stream",
     "text": [
      "32\n",
      "5\n"
     ]
    }
   ],
   "source": [
    "def tar_sum(arr,sum):\n",
    "    i = len(arr)-1\n",
    "    if i==0:\n",
    "        if arr[0]==0:\n",
    "            return 2\n",
    "        elif arr[0]!=0 and arr[0]==sum or arr[0]==0-sum:\n",
    "            return 1\n",
    "        else:\n",
    "            return 0\n",
    "    else:\n",
    "        return tar_sum(arr[0:i],sum+arr[i])+tar_sum(arr[0:i],sum-arr[i])\n",
    "print(tar_sum([0,0,0,0,3],3))\n",
    "print(tar_sum([1,1,1,1,1],3))"
   ]
  },
  {
   "cell_type": "markdown",
   "metadata": {},
   "source": [
    "#### 动态规划思路参考（https://blog.csdn.net/sysu_xiamengyou/article/details/70986185）"
   ]
  },
  {
   "cell_type": "markdown",
   "metadata": {},
   "source": [
    "#### 非动态规划思路"
   ]
  },
  {
   "cell_type": "code",
   "execution_count": 114,
   "metadata": {},
   "outputs": [
    {
     "name": "stdout",
     "output_type": "stream",
     "text": [
      "-------------------------------\n",
      "defaultdict(<class 'int'>, {1: 1, -1: 1})\n",
      "-------------------------------\n",
      "defaultdict(<class 'int'>, {2: 1, 0: 2, -2: 1})\n",
      "-------------------------------\n",
      "defaultdict(<class 'int'>, {3: 1, 1: 3, -1: 3, -3: 1})\n",
      "-------------------------------\n",
      "defaultdict(<class 'int'>, {4: 1, 2: 4, 0: 6, -2: 4, -4: 1})\n",
      "-------------------------------\n",
      "defaultdict(<class 'int'>, {5: 1, 3: 5, 1: 10, -1: 10, -3: 5, -5: 1})\n"
     ]
    },
    {
     "data": {
      "text/plain": [
       "5"
      ]
     },
     "execution_count": 114,
     "metadata": {},
     "output_type": "execute_result"
    }
   ],
   "source": [
    "import collections\n",
    "def findTargetSumWays(nums, S):\n",
    "    if not nums or sum(nums)<S: \n",
    "        return 0\n",
    "    dic = {0:1}\n",
    "    for i in range(len(nums)):\n",
    "        temp_dic = collections.defaultdict(int)    # 记住collections.defaultdict()的用法\n",
    "        for k in dic:\n",
    "            temp_dic[k+nums[i]] += dic[k]\n",
    "            temp_dic[k-nums[i]] += dic[k]\n",
    "        dic = temp_dic\n",
    "        print('-------------------------------')\n",
    "        print(dic)\n",
    "    return dic[S]\n",
    "# example\n",
    "findTargetSumWays([1,1,1,1,1],3)"
   ]
  },
  {
   "cell_type": "markdown",
   "metadata": {},
   "source": [
    "### [167. Two Sum II - Input array is sorted](https://leetcode.com/problems/two-sum-ii-input-array-is-sorted/)"
   ]
  },
  {
   "cell_type": "markdown",
   "metadata": {},
   "source": [
    "Given an array of integers that is already sorted in ascending order, find two numbers such that they add up to a specific target number.\n",
    "\n",
    "The function twoSum should return indices of the two numbers such that they add up to the target, where index1 must be less than index2.\n",
    "\n",
    "Note:\n",
    "\n",
    "Your returned answers (both index1 and index2) are not zero-based.\n",
    "You may assume that each input would have exactly one solution and you may not use the same element twice."
   ]
  },
  {
   "cell_type": "code",
   "execution_count": 1,
   "metadata": {},
   "outputs": [],
   "source": [
    "class Solution:\n",
    "    def twoSum(self, numbers, target):\n",
    "        l = 0\n",
    "        r = len(numbers)-1\n",
    "\n",
    "        while l<r:\n",
    "            if(numbers[r]+numbers[l]<target):\n",
    "                l+=1\n",
    "            elif(numbers[r]+numbers[l]>target):\n",
    "                r-=1\n",
    "            else:\n",
    "                return [l+1,r+1]"
   ]
  },
  {
   "cell_type": "markdown",
   "metadata": {},
   "source": [
    "### [739. Daily Temperatures](https://leetcode.com/problems/daily-temperatures/)"
   ]
  },
  {
   "cell_type": "markdown",
   "metadata": {},
   "source": [
    "Given a list of daily temperatures T, return a list such that, for each day in the input, tells you how many days you would have to wait until a warmer temperature. If there is no future day for which this is possible, put 0 instead."
   ]
  },
  {
   "cell_type": "markdown",
   "metadata": {},
   "source": [
    "算法思想  https://blog.csdn.net/qq_36461882/article/details/84337194 (堆栈)"
   ]
  },
  {
   "cell_type": "code",
   "execution_count": 2,
   "metadata": {},
   "outputs": [],
   "source": [
    "# 自己的低效率版本\n",
    "class Solution:\n",
    "    def dailyTemperatures(self, T): \n",
    "        stack = []                    # 列表当作栈来用\n",
    "        ans = [0]*len(T)\n",
    "        for index, value in enumerate(T):\n",
    "            if stack == []:\n",
    "                stack.append([index,value])\n",
    "            elif stack != []:\n",
    "                if value <= stack[-1][1]:\n",
    "                    stack.append([index,value])\n",
    "                else:\n",
    "                    while stack != [] and value>stack[-1][1]:\n",
    "                        i = stack.pop()[0]             #  列表.pop()模拟了后进先出\n",
    "                        ans[i] = index-i\n",
    "                    stack.append([index,value])\n",
    "        return ans\n",
    "\n",
    "# 精简版本\n",
    "class Solution:\n",
    "    def dailyTemperatures(self, T):        \n",
    "        stack=[]\n",
    "        res=[0]*len(T)\n",
    "        tem=list(enumerate(T))        \n",
    "        for i,j in tem:\n",
    "            while stack and j>T[stack[-1]]:\n",
    "                res[stack[-1]]=i-stack[-1]\n",
    "                stack.pop()            \n",
    "            stack.append(i)\n",
    "        return res"
   ]
  },
  {
   "cell_type": "markdown",
   "metadata": {},
   "source": [
    "#### 7. Reverse Integer"
   ]
  },
  {
   "cell_type": "markdown",
   "metadata": {},
   "source": [
    "Given a 32-bit signed integer, reverse digits of an integer.\n",
    "\n",
    "Assume we are dealing with an environment which could only store integers within the 32-bit signed integer range: [−2^31,  2^31 − 1]"
   ]
  },
  {
   "cell_type": "code",
   "execution_count": 3,
   "metadata": {},
   "outputs": [],
   "source": [
    "class Solution:\n",
    "    def reverse(self, x: int) -> int:\n",
    "        range_32 = range(-2**31, 2**31-1)\n",
    "        if x not in range_32:\n",
    "            final = 0\n",
    "        elif x < 0:\n",
    "            final = -1 * int(str(x)[::-1][:-1])\n",
    "        else:\n",
    "            final = int(str(x)[::-1])\n",
    "        return final if final in range_32 else 0"
   ]
  },
  {
   "cell_type": "markdown",
   "metadata": {},
   "source": [
    "### [239. Sliding Window Maximum](https://leetcode.com/problems/sliding-window-maximum/)"
   ]
  },
  {
   "cell_type": "markdown",
   "metadata": {},
   "source": [
    "Given an array nums, there is a sliding window of size k which is moving from the very left of the array to the very right. You can only see the k numbers in the window. Each time the sliding window moves right by one position. Return the max sliding window."
   ]
  },
  {
   "cell_type": "code",
   "execution_count": 5,
   "metadata": {},
   "outputs": [],
   "source": [
    "class Solution:\n",
    "    def maxSlidingWindow(self, nums, k):\n",
    "        return_list = []\n",
    "        for i,j in enumerate(nums):\n",
    "            return_list.append(max(nums[i:i+k]))\n",
    "            if len(return_list) == len(nums)-k+1:\n",
    "                return return_list\n",
    "        \n",
    "class Solution:\n",
    "    def maxSlidingWindow(self, nums, k):\n",
    "        res=[]\n",
    "        while nums:\n",
    "            res.append(max(nums[:k]))\n",
    "            nums.pop(0)\n",
    "            if len(nums)<k:break\n",
    "        return res"
   ]
  },
  {
   "cell_type": "markdown",
   "metadata": {},
   "source": [
    "#### 使用双边队列的解法（算法复杂度O(n)）\n",
    "\n",
    "python collections 模块中的 deque (https://blog.csdn.net/happyrocking/article/details/80058623)"
   ]
  },
  {
   "cell_type": "code",
   "execution_count": null,
   "metadata": {},
   "outputs": [],
   "source": [
    "import collections\n",
    "class Solution:\n",
    "    def maxSlidingWindow(self, nums, k):\n",
    "        d = collections.deque()          # 用于记录index\n",
    "        out = []       \n",
    "        for i, n in enumerate(nums):\n",
    "            while d and nums[d[-1]] < n:\n",
    "                d.pop()\n",
    "            d += i,   # 这一行和d.append(i)是一致的\n",
    "            if d[0] == i - k:\n",
    "                d.popleft()\n",
    "            if i >= k - 1:\n",
    "                out += nums[d[0]],   # 这一行和out.append(nums[d[0]])是一致的\n",
    "        return out"
   ]
  },
  {
   "cell_type": "markdown",
   "metadata": {},
   "source": [
    "### [347. Top K Frequent Elements](https://leetcode.com/problems/top-k-frequent-elements/)"
   ]
  },
  {
   "cell_type": "markdown",
   "metadata": {},
   "source": [
    "Given a non-empty array of integers, return the k most frequent elements."
   ]
  },
  {
   "cell_type": "code",
   "execution_count": 2,
   "metadata": {},
   "outputs": [],
   "source": [
    "class Solution:\n",
    "    def topKFrequent(self, nums, k):\n",
    "        count=collections.defaultdict(int)\n",
    "        for num in nums:\n",
    "            count[num]+=1\n",
    "        return [i[0] for i in collections.Counter(count).most_common(k)]\n",
    "# For nums = [1,1,1,2,2,3]\n",
    "# collections.Counter(nums) 返回  Counter({1: 3, 2: 2, 3: 1})\n",
    "# collections.Counter(nums).most_common()返回 [(1, 3), (2, 2), (3, 1)]\n",
    "# .most_common(k)指的是前面k个频率最高的"
   ]
  },
  {
   "cell_type": "markdown",
   "metadata": {},
   "source": [
    "##### 使用优先队列\n",
    "\n",
    "一种著名的数据结构是堆（heap），它是一种优先队列。优先队列让你能够以任意顺序添加对象，并随时（可能是在两次添加对象之间）找出（并删除）最小的元素。相比于列表方法min，这样做的效率要高得多。\n",
    "\n",
    "元素的排列顺序并不像看起来那么随意。它们虽然不是严格排序的，但必须保证一点：位置i处的元素总是大于位置i // 2处的元素（反过来说就是小于位置2 * i和2 * (i + 1)处的元素）。这是底层堆算法的基础，称为堆特征(heap property)"
   ]
  },
  {
   "cell_type": "code",
   "execution_count": 1,
   "metadata": {},
   "outputs": [],
   "source": [
    "import heapq\n",
    "from collections import defaultdict\n",
    "class Solution(object):\n",
    "    def topKFrequent(self, nums, k):\n",
    "        d = defaultdict(int)\n",
    "        for i in nums:\n",
    "            d[i] = d[i] + 1\n",
    "        heap = []\n",
    "        for key, val in d.items():\n",
    "            if len(heap) < k:\n",
    "                heapq.heappush(heap,(val,key))\n",
    "            else:\n",
    "                if val > heap[0][0]:\n",
    "                    heapq.heappop(heap)   # 从堆中弹出最小的元素,也就是第0个元素\n",
    "                    heapq.heappush(heap,(val,key))\n",
    "        tmp = []\n",
    "        for i in heap:\n",
    "            tmp.append(i[1])\n",
    "        return tmp"
   ]
  },
  {
   "cell_type": "markdown",
   "metadata": {},
   "source": [
    "#### [91. Decode Ways](https://leetcode.com/problems/decode-ways/)\n",
    "\n",
    "A message containing letters from A-Z is being encoded to numbers using the following mapping:\n",
    "\n",
    "'A' -> 1\n",
    "'B' -> 2\n",
    "...\n",
    "'Z' -> 26\n",
    "\n",
    "Given a non-empty string containing only digits, determine the total number of ways to decode it."
   ]
  },
  {
   "cell_type": "code",
   "execution_count": 2,
   "metadata": {},
   "outputs": [],
   "source": [
    "# 动态规划问题\n",
    "# 自己写的解法\n",
    "class Solution:\n",
    "    def numDecodings(self, s):\n",
    "        if '00' in s or s[0] == '0':\n",
    "            return 0\n",
    "        if len(s) == 1:\n",
    "            return 1\n",
    "        dp = [1] + [0 for _ in range(len(s)-1)]\n",
    "        if s[1] == '0':\n",
    "            if s[0]=='1' or s[0]=='2':\n",
    "                dp[1] = 1\n",
    "        else:\n",
    "            if 10<=int(s[0:2])<=26:\n",
    "                dp[1] = 2\n",
    "            else:\n",
    "                dp[1] = 1\n",
    "            \n",
    "        for i in range(2,len(dp)):\n",
    "            if s[i]=='0':\n",
    "                if int(s[i-1:i+1])<=20:\n",
    "                    dp[i] += dp[i-2]\n",
    "                else:\n",
    "                    return 0\n",
    "            elif s[i]!='0':\n",
    "                if s[i-1]!='0' and 10<int(s[i-1:i+1])<=26:\n",
    "                    dp[i] = dp[i-1] + dp[i-2]\n",
    "                else:\n",
    "                    dp[i] = dp[i-1]\n",
    "        return dp[-1]"
   ]
  },
  {
   "cell_type": "markdown",
   "metadata": {},
   "source": [
    "#### [51. N-Queens](https://leetcode.com/problems/n-queens/)\n",
    "\n",
    "#### 回溯法经典问题\n",
    "\n",
    "[知乎](https://zhuanlan.zhihu.com/p/51882471)"
   ]
  },
  {
   "cell_type": "code",
   "execution_count": 1,
   "metadata": {},
   "outputs": [],
   "source": [
    "def conflict(queen_list, current_queen):      # 判断是否冲突\n",
    "    flag = False\n",
    "    cur_que_ind = len(queen_list)\n",
    "    for index,pos in enumerate(queen_list):\n",
    "        if current_queen-pos == 0:\n",
    "            flag = True\n",
    "            break\n",
    "        if abs(cur_que_ind-index) == abs(current_queen-pos):\n",
    "            flag = True\n",
    "            break\n",
    "    return flag\n",
    "\n",
    "class Solution:\n",
    "    def solveNQueens(self, n):\n",
    "        solution = []\n",
    "        QL = []\n",
    "        def back(Queen_List):\n",
    "            if len(Queen_List) == n:\n",
    "                solution.append(Queen_List)\n",
    "                return                      # 出口\n",
    "            for pos in range(0,n):\n",
    "                if not conflict(Queen_List, pos):\n",
    "                    t = Queen_List.copy()\n",
    "                    t.append(pos)\n",
    "                    back(t)\n",
    "                    \n",
    "        back(Queen_List=QL)\n",
    "        output = []\n",
    "        for j in solution:\n",
    "            temp_list = []\n",
    "            for i in j:\n",
    "                temp_list.append('.'*(i)+'Q'+'.'*(n-i-1))\n",
    "            output.append(temp_list)\n",
    "        return output"
   ]
  },
  {
   "cell_type": "code",
   "execution_count": 3,
   "metadata": {},
   "outputs": [],
   "source": [
    "# 法二，深度优先\n",
    "# 函数中定义函数可以节省全局变量\n",
    "class Solution:\n",
    "    def solveNQueens(self, n):\n",
    "        def DFS(queens, xy_dif, xy_sum):  # queens表示每一行中某列存在皇后\n",
    "            p = len(queens)\n",
    "            if p==n:\n",
    "                result.append(queens)\n",
    "                return None\n",
    "            for q in range(n):\n",
    "                if q not in queens and p-q not in xy_dif and p+q not in xy_sum:\n",
    "                    DFS(queens+[q], xy_dif+[p-q], xy_sum+[p+q])\n",
    "        result = []  # 结果类似于[[1,3,0,2],[2,0,3,1]]\n",
    "        DFS([],[],[])\n",
    "        return [[\".\"*i+\"Q\"+\".\"*(n-i-1) for i in sol] for sol in result]"
   ]
  },
  {
   "cell_type": "markdown",
   "metadata": {},
   "source": [
    "#### [39. Combination Sum](https://leetcode.com/problems/combination-sum/)\n",
    "\n",
    "Given a set of candidate numbers (candidates) (without duplicates) and a target number (target), find all unique combinations in candidates where the candidate numbers sums to target.\n",
    "\n",
    "The same repeated number may be chosen from candidates unlimited number of times.\n",
    "\n",
    "Note:\n",
    "\n",
    "All numbers (including target) will be positive integers.\n",
    "The solution set must not contain duplicate combinations."
   ]
  },
  {
   "cell_type": "code",
   "execution_count": 2,
   "metadata": {},
   "outputs": [],
   "source": [
    "# 采用回溯法\n",
    "class Solution(object):\n",
    "    def combinationSum(self, candidates, target):\n",
    "        \"\"\"\n",
    "        :type candidates: List[int]\n",
    "        :type target: int\n",
    "        :rtype: List[List[int]]\n",
    "        \"\"\"\n",
    "        solution = []\n",
    "        def back(current_list):\n",
    "            if sum(current_list) == target:\n",
    "                solution.append(current_list)\n",
    "                return\n",
    "            for num in candidates:\n",
    "                temp_list = current_list.copy()\n",
    "                temp_list.append(num)\n",
    "                if sum(temp_list) <= target:\n",
    "                    back(temp_list)\n",
    "        back(current_list=[])\n",
    "        # 最后这里的solution可能会包含重复答案，如candidates = [2,3,6,7], target = 7，得出答案为[[2, 2, 3], [2, 2, 3], [2, 2, 3], [7]]\n",
    "        # 所以我们需要进行删除重复答案处理\n",
    "        sorted_solution = [sorted(i) for i in solution]\n",
    "        final_solution = []\n",
    "        for j in sorted_solution:\n",
    "            if j not in final_solution:\n",
    "                final_solution.append(j)\n",
    "        return final_solution"
   ]
  },
  {
   "cell_type": "markdown",
   "metadata": {},
   "source": [
    "### 深度优先算法和广度优先算法\n",
    "\n",
    "![](fig/bfsdfs.png)"
   ]
  },
  {
   "cell_type": "code",
   "execution_count": 11,
   "metadata": {},
   "outputs": [
    {
     "name": "stdout",
     "output_type": "stream",
     "text": [
      "A\n",
      "B\n",
      "C\n",
      "D\n",
      "E\n",
      "F\n",
      "A\n",
      "C\n",
      "E\n",
      "D\n",
      "F\n",
      "B\n"
     ]
    }
   ],
   "source": [
    "graph = {\n",
    "    'A':['B','C'],\n",
    "    'B':['A','C','D'],\n",
    "    'C':['A','B','D','E'],\n",
    "    'D':['B','C','E','F'],\n",
    "    'E':['C','D'],\n",
    "    'F':['D']\n",
    "}\n",
    "# 广度优先是队列\n",
    "def BFS(graph, s):\n",
    "    queue = []\n",
    "    queue.append(s)\n",
    "    seen = set()\n",
    "    seen.add(s)\n",
    "    while (len(queue) > 0):\n",
    "        vertex = queue.pop(0) # 弹出第一个元素\n",
    "        nodes = graph[vertex]\n",
    "        for w in nodes:\n",
    "            if w not in seen:\n",
    "                queue.append(w)\n",
    "                seen.add(w)\n",
    "        print(vertex)\n",
    "\n",
    "# 深度优先是栈\n",
    "def DFS(graph, s):\n",
    "    stack = []\n",
    "    stack.append(s)\n",
    "    seen = set()\n",
    "    seen.add(s)\n",
    "    while (len(stack) > 0):\n",
    "        vertex = stack.pop()\n",
    "        nodes = graph[vertex]\n",
    "        for w in nodes:\n",
    "            if w not in seen:\n",
    "                stack.append(w)\n",
    "                seen.add(w)\n",
    "        print(vertex)\n",
    "        \n",
    "BFS(graph, 'A')\n",
    "DFS(graph, 'A')"
   ]
  },
  {
   "cell_type": "code",
   "execution_count": 13,
   "metadata": {},
   "outputs": [
    {
     "name": "stdout",
     "output_type": "stream",
     "text": [
      "E None\n",
      "C E\n",
      "D E\n",
      "A C\n",
      "B C\n",
      "F D\n"
     ]
    }
   ],
   "source": [
    "# 使用广度优先寻找最短路径\n",
    "# 设立一个字典parent，字典的key指代某个节点，value指代这个节点的前一个节点\n",
    "def BFS(graph, s):\n",
    "    queue = []\n",
    "    queue.append(s)\n",
    "    seen = set()\n",
    "    seen.add(s)\n",
    "    parent = {s : None}\n",
    "    while (len(queue) > 0):\n",
    "        vertex = queue.pop(0) # 弹出第一个元素\n",
    "        nodes = graph[vertex]\n",
    "        for w in nodes:\n",
    "            if w not in seen:\n",
    "                queue.append(w)\n",
    "                seen.add(w)\n",
    "                parent[w] = vertex\n",
    "    return parent\n",
    "parent = BFS(graph, 'E')\n",
    "for key in parent:\n",
    "    print(key, parent[key])\n",
    "# 从E到B最短的路径就只需要查找到B的父节点C，再查找到C的父节点E就行了"
   ]
  },
  {
   "cell_type": "markdown",
   "metadata": {},
   "source": [
    "#### Dijkstra\n",
    "\n",
    "![](fig/Dijs.png)"
   ]
  },
  {
   "cell_type": "code",
   "execution_count": 17,
   "metadata": {},
   "outputs": [
    {
     "name": "stdout",
     "output_type": "stream",
     "text": [
      "{'A': None, 'B': 'C', 'C': 'A', 'D': 'B', 'E': 'D', 'F': 'D'}\n",
      "{'A': 0, 'B': 3, 'C': 1, 'D': 4, 'E': 7, 'F': 10}\n"
     ]
    }
   ],
   "source": [
    "graph = {\n",
    "    'A':{'B':5, 'C':1},\n",
    "    'B':{'A':5, 'C':2, 'D':1},\n",
    "    'C':{'A':1, 'B':2, 'D':4, 'E':8},\n",
    "    'D':{'B':1, 'C':4, 'E':3, 'F':6},\n",
    "    'E':{'C':8, 'D':3},\n",
    "    'F':{'D':6}\n",
    "}\n",
    "# 基于BFS来改\n",
    "import heapq\n",
    "import math\n",
    "\n",
    "# 下面这个函数是初始化字典，其实用defultdict也行，就不用初始化了\n",
    "def init_distance(graph, s):\n",
    "    distance = {s:0}\n",
    "    for vertex in graph:\n",
    "        if vertex != s:\n",
    "            distance[vertex] = math.inf\n",
    "    return distance\n",
    "\n",
    "def dijkstra(graph, s):\n",
    "    pqueue = []    # 优先队列\n",
    "    heapq.heappush(pqueue,(0, s))\n",
    "    seen = set()\n",
    "    # seen.add(vertex) # 一定要出了队列才算被看到，这里不加\n",
    "    parent = {s : None}\n",
    "    distance = init_distance(graph, s)\n",
    "    \n",
    "    while (len(pqueue) > 0):\n",
    "        pair = heapq.heappop(pqueue)\n",
    "        dist = pair[0]\n",
    "        vertex = pair[1]\n",
    "        seen.add(vertex) # 一定要出了队列才算被看到\n",
    "        \n",
    "        nodes = graph[vertex].keys()\n",
    "        for w in nodes:\n",
    "            if w not in seen:\n",
    "                if dist + graph[vertex][w] < distance[w]:\n",
    "                    heapq.heappush(pqueue, (dist + graph[vertex][w],w))\n",
    "                    # seen.add(w)   # 一定要出了队列才算被看到，这里不加\n",
    "                    parent[w] = vertex\n",
    "                    distance[w] = dist + graph[vertex][w]\n",
    "    return parent, distance\n",
    "\n",
    "parent, distance = dijkstra(graph, 'A')\n",
    "print(parent)\n",
    "print(distance)"
   ]
  },
  {
   "cell_type": "markdown",
   "metadata": {},
   "source": [
    "#### [690. Employee Importance](https://leetcode.com/problems/employee-importance/)\n",
    "\n",
    "You are given a data structure of employee information, which includes the employee's unique id, his importance value and his direct subordinates' id.\n",
    "\n",
    "For example, employee 1 is the leader of employee 2, and employee 2 is the leader of employee 3. They have importance value 15, 10 and 5, respectively. Then employee 1 has a data structure like [1, 15, [2]], and employee 2 has [2, 10, [3]], and employee 3 has [3, 5, []]. Note that although employee 3 is also a subordinate of employee 1, the relationship is not direct.\n",
    "\n",
    "Now given the employee information of a company, and an employee id, you need to return the total importance value of this employee and all his subordinates."
   ]
  },
  {
   "cell_type": "code",
   "execution_count": 3,
   "metadata": {},
   "outputs": [],
   "source": [
    "# Employee info\n",
    "class Employee:\n",
    "    def __init__(self, id, importance, subordinates):\n",
    "        # It's the unique id of each node.\n",
    "        # unique id of this employee\n",
    "        self.id = id\n",
    "        # the importance value of this employee\n",
    "        self.importance = importance\n",
    "        # the id of direct subordinates\n",
    "        self.subordinates = subordinates\n",
    "# 输入[[1,10,[2,3]], [2,4,[]], [3,3,[]]]，列表里面的每个元素都是Employee这一类\n",
    "        \n",
    "class Solution(object):\n",
    "    def getImportance(self, employees, query_id):     \n",
    "        emap = {e.id: e for e in employees}          \n",
    "        def dfs(eid):\n",
    "            employee = emap[eid]\n",
    "            return (employee.importance +\n",
    "                    sum(dfs(eid) for eid in employee.subordinates))\n",
    "        return dfs(query_id)"
   ]
  },
  {
   "cell_type": "markdown",
   "metadata": {},
   "source": [
    "#### [733. Flood Fill](https://leetcode.com/problems/flood-fill/)\n",
    "\n",
    "An image is represented by a 2-D array of integers, each integer representing the pixel value of the image (from 0 to 65535).\n",
    "\n",
    "Given a coordinate (sr, sc) representing the starting pixel (row and column) of the flood fill, and a pixel value newColor, \"flood fill\" the image.\n",
    "\n",
    "To perform a \"flood fill\", consider the starting pixel, plus any pixels connected 4-directionally to the starting pixel of the same color as the starting pixel, plus any pixels connected 4-directionally to those pixels (also with the same color as the starting pixel), and so on. Replace the color of all of the aforementioned pixels with the newColor.\n",
    "\n",
    "At the end, return the modified image."
   ]
  },
  {
   "cell_type": "code",
   "execution_count": 4,
   "metadata": {},
   "outputs": [],
   "source": [
    "# 方法一  官方答案\n",
    "class Solution(object):\n",
    "    def floodFill(self, image, sr, sc, newColor):\n",
    "        R, C = len(image), len(image[0])\n",
    "        color = image[sr][sc]\n",
    "        if color == newColor: return image\n",
    "        def dfs(r, c):\n",
    "            if image[r][c] == color:\n",
    "                image[r][c] = newColor\n",
    "                if r >= 1: dfs(r-1, c)\n",
    "                if r+1 < R: dfs(r+1, c)\n",
    "                if c >= 1: dfs(r, c-1)\n",
    "                if c+1 < C: dfs(r, c+1)\n",
    "\n",
    "        dfs(sr, sc)\n",
    "        return image"
   ]
  },
  {
   "cell_type": "code",
   "execution_count": null,
   "metadata": {},
   "outputs": [],
   "source": [
    "# 方法二   采用深度优先中栈的思想\n",
    "class Solution:\n",
    "    def floodFill(self, image, sr, sc, newColor):\n",
    "        stack = [[sr,sc]]\n",
    "        directions = [[1,0],[-1,0],[0,1],[0,-1]]\n",
    "        visited = set((sr,sc))\n",
    "        color = image[sr][sc]\n",
    "        while stack:\n",
    "            r,c = stack.pop()\n",
    "            image[r][c] = newColor\n",
    "            for i,j in directions:\n",
    "                if 0 <= r+i< len(image) and 0 <= c+j < len(image[0]) and (r+i,c+j) not in visited and image[r+i][c+j] == color:\n",
    "                    stack.append([r+i,c+j])\n",
    "                    visited.add((r+i,c+j))\n",
    "        return image"
   ]
  },
  {
   "cell_type": "markdown",
   "metadata": {},
   "source": [
    "### [473. Matchsticks to Square](https://leetcode.com/problems/matchsticks-to-square/)\n",
    "\n",
    "Remember the story of Little Match Girl? By now, you know exactly what matchsticks the little match girl has, please find out a way you can make one square by using up all those matchsticks. You should not break any stick, but you can link them up, and each matchstick must be used exactly one time.\n",
    "\n",
    "Your input will be several matchsticks the girl has, represented with their stick length. Your output will either be true or false, to represent whether you could make one square using all the matchsticks the little match girl has.\n",
    "\n",
    "#### 深度优先算法难题"
   ]
  },
  {
   "cell_type": "code",
   "execution_count": 5,
   "metadata": {},
   "outputs": [],
   "source": [
    "class Solution:\n",
    "    def makesquare(self, nums):\n",
    "        \"\"\"\n",
    "        :type nums: List[int]\n",
    "        :rtype: bool\n",
    "        \"\"\"\n",
    "        # If there are no matchsticks, then we can't form any square\n",
    "        if not nums:\n",
    "            return False\n",
    "\n",
    "        # Number of matchsticks we have\n",
    "        L = len(nums)\n",
    "\n",
    "        # Perimeter of our square (if one can be formed)\n",
    "        perimeter = sum(nums)\n",
    "\n",
    "        # Possible side of our square.\n",
    "        possible_side =  perimeter // 4\n",
    "\n",
    "        # If the perimeter can be equally split into 4 parts (and hence 4 sides, then we move on).\n",
    "        if possible_side * 4 != perimeter:\n",
    "            return False\n",
    "\n",
    "        # Reverse sort the matchsticks because we want to consider the biggest one first.\n",
    "        nums.sort(reverse=True)\n",
    "\n",
    "        # This array represents the 4 sides and their current lengths\n",
    "        sums = [0 for _ in range(4)]\n",
    "\n",
    "        # Our recursive dfs function.\n",
    "        # L是火柴的根数，nums是火柴的集合，index是第几根火柴\n",
    "        def dfs(index):\n",
    "\n",
    "            # If we reach the end of matchsticks array, we check if the square was formed or not\n",
    "            if index == L:\n",
    "                # If 3 equal sides were formed, 4th will be the same as these three and answer should be True in that case.\n",
    "                return sums[0] == sums[1] == sums[2] == possible_side\n",
    "\n",
    "            # The current matchstick can belong to any of the 4 sides (provided their remaining lenghts are >= the size of the current matchstick)\n",
    "            for i in range(4):\n",
    "                # If this matchstick can fir in the space left for the current side\n",
    "                if sums[i] + nums[index] <= possible_side:\n",
    "                    # Recurse\n",
    "                    sums[i] += nums[index]\n",
    "                    if dfs(index + 1):\n",
    "                        return True\n",
    "                    # Revert the effects of recursion because we no longer need them for other recursions.\n",
    "                    sums[i] -= nums[index]\n",
    "            return False        \n",
    "        return dfs(0)"
   ]
  },
  {
   "cell_type": "markdown",
   "metadata": {},
   "source": [
    "### [994. Rotting Oranges](https://leetcode.com/problems/rotting-oranges/)\n",
    "\n",
    "#### 广度优先\n",
    "\n",
    "In a given grid, each cell can have one of three values:\n",
    "\n",
    "the value 0 representing an empty cell;\n",
    "the value 1 representing a fresh orange;\n",
    "the value 2 representing a rotten orange.\n",
    "Every minute, any fresh orange that is adjacent (4-directionally) to a rotten orange becomes rotten.\n",
    "\n",
    "Return the minimum number of minutes that must elapse until no cell has a fresh orange.  If this is impossible, return -1 instead."
   ]
  },
  {
   "cell_type": "code",
   "execution_count": 7,
   "metadata": {},
   "outputs": [],
   "source": [
    "# 这个编程太厉害了\n",
    "class Solution:\n",
    "    def orangesRotting(self, grid) -> int:\n",
    "        row, col = len(grid), len(grid[0])\n",
    "        rotting = {(i, j) for i in range(row) for j in range(col) if grid[i][j] == 2}  # 用字典来存储元组\n",
    "        fresh = {(i, j) for i in range(row) for j in range(col) if grid[i][j] == 1}   \n",
    "        timer = 0\n",
    "        while fresh:\n",
    "            if not rotting: return -1\n",
    "            rotting = {(i+di, j+dj) for i, j in rotting for di, dj in [(0, 1), (1, 0), (0, -1), (-1, 0)] if (i+di, j+dj) in fresh}\n",
    "            # 每次rotting只记录下一个广度搜索后的被rotting了的橘子的位置\n",
    "            fresh -= rotting  # 字典元组相减，例如{(1,2),(2,3)}-{(2,3),(3,4)}={(1,2)}\n",
    "            timer += 1\n",
    "        return timer"
   ]
  },
  {
   "cell_type": "markdown",
   "metadata": {},
   "source": [
    "### [529. Minesweeper](https://leetcode.com/problems/minesweeper/)\n",
    "\n",
    "#### 扫雷游戏---广度优先\n",
    "\n",
    "Let's play the minesweeper game (Wikipedia, online game)!\n",
    "\n",
    "You are given a 2D char matrix representing the game board. 'M' represents an unrevealed mine, 'E' represents an unrevealed empty square, 'B' represents a revealed blank square that has no adjacent (above, below, left, right, and all 4 diagonals) mines, digit ('1' to '8') represents how many mines are adjacent to this revealed square, and finally 'X' represents a revealed mine.\n",
    "\n",
    "Now given the next click position (row and column indices) among all the unrevealed squares ('M' or 'E'), return the board after revealing this position according to the following rules:\n",
    "\n",
    "If a mine ('M') is revealed, then the game is over - change it to 'X'.\n",
    "If an empty square ('E') with no adjacent mines is revealed, then change it to revealed blank ('B') and all of its adjacent unrevealed squares should be revealed recursively.\n",
    "If an empty square ('E') with at least one adjacent mine is revealed, then change it to a digit ('1' to '8') representing the number of adjacent mines.\n",
    "Return the board when no more squares will be revealed"
   ]
  },
  {
   "cell_type": "code",
   "execution_count": 10,
   "metadata": {},
   "outputs": [],
   "source": [
    "class Solution:\n",
    "    def updateBoard(self, board, click) -> list:\n",
    "        x, y = click[0], click[1]\n",
    "\n",
    "        # check if x and y are in bound\n",
    "        if not (0 <= x < len(board) and 0 <= y < len(board[0])):\n",
    "            return\n",
    "\n",
    "        # situation 1\n",
    "        if board[x][y] == 'M':\n",
    "            board[x][y] = 'X'\n",
    "            return board\n",
    "        elif board[x][y] == 'E':\n",
    "            num_adj_mines = self.has_adj_mines(board, x,y)\n",
    "\n",
    "            # situation 3\n",
    "            if num_adj_mines:\n",
    "                board[x][y] = str(num_adj_mines)\n",
    "\n",
    "            # situation 2\n",
    "            else:\n",
    "                board[x][y] = 'B'\n",
    "                self.updateBoard(board, [x + 1, y])\n",
    "                self.updateBoard(board, [x, y + 1])\n",
    "                self.updateBoard(board, [x - 1, y])\n",
    "                self.updateBoard(board, [x, y - 1])\n",
    "                self.updateBoard(board, [x + 1, y + 1])\n",
    "                self.updateBoard(board, [x + 1, y - 1])\n",
    "                self.updateBoard(board, [x - 1, y + 1])\n",
    "                self.updateBoard(board, [x - 1, y - 1])\n",
    "            return board\n",
    "    \n",
    "    def has_adj_mines(self, board, x, y):\n",
    "        def is_mine(x, y):\n",
    "            if not (0 <= x < len(board) and 0 <= y < len(board[0])):\n",
    "                return 0\n",
    "            if board[x][y] == 'M':\n",
    "                return 1\n",
    "            return 0                \n",
    "        \n",
    "        num_adj_mines = is_mine(x+1, y) + is_mine(x, y+1) + is_mine(x-1, y) + is_mine(x, y-1) + is_mine(x-1, y-1) + is_mine(x+1, y+1) + is_mine(x+1, y-1) + is_mine(x-1, y+1)\n",
    "        return num_adj_mines"
   ]
  },
  {
   "cell_type": "markdown",
   "metadata": {},
   "source": [
    "Runtime: 204 ms, faster than 43.26% of Python3 online submissions for Minesweeper.\n",
    "\n",
    "Memory Usage: 14.6 MB, less than 40.00% of Python3 online submissions for Minesweeper."
   ]
  },
  {
   "cell_type": "code",
   "execution_count": 11,
   "metadata": {},
   "outputs": [],
   "source": [
    "class Solution:\n",
    "    def updateBoard(self, board, click):\n",
    "        \"\"\"\n",
    "        :type board: List[List[str]]\n",
    "        :type click: List[int]\n",
    "        :rtype: List[List[str]]\n",
    "        \"\"\"\n",
    "\n",
    "        if not board or not click:\n",
    "            return None\n",
    "\n",
    "        if board[click[0]][click[1]] == 'M':\n",
    "                board[click[0]][click[1]] = 'X'\n",
    "                return board\n",
    "\n",
    "        queue = collections.deque()\n",
    "        queue.append([board[:], click])\n",
    "\n",
    "        while queue:\n",
    "            board, click = queue.popleft()\n",
    "            x, y = click[0], click[1]\n",
    "            if board[x][y] == 'E':\n",
    "                count = 0\n",
    "                for i in range(-1, 2):\n",
    "                    for j in range(-1, 2):\n",
    "                        if 0 <= x+i < len(board) and 0 <= y+j < len(board[0]):\n",
    "                            if board[x+i][y+j] == 'M':\n",
    "                                count += 1\n",
    "                if count != 0:\n",
    "                    board[x][y] = str(count)\n",
    "                else:\n",
    "                    board[x][y] = 'B'\n",
    "                    for i in range(-1, 2):\n",
    "                        for j in range(-1, 2):\n",
    "                            if i == 0 and j == 0:\n",
    "                                continue\n",
    "                            if 0 <= x+i < len(board) and 0 <= y+j < len(board[0]):\n",
    "                                queue.append([board[:], [x+i, y+j]])\n",
    "\n",
    "        return board"
   ]
  },
  {
   "cell_type": "markdown",
   "metadata": {},
   "source": [
    "Runtime: 228 ms, faster than 19.25% of Python3 online submissions for Minesweeper.\n",
    "\n",
    "Memory Usage: 13 MB, less than 100.00% of Python3 online submissions for Minesweeper."
   ]
  },
  {
   "cell_type": "markdown",
   "metadata": {},
   "source": [
    "### [934. Shortest Bridge](https://leetcode.com/problems/shortest-bridge/)\n",
    "\n",
    "#### 深度优先和广度优先相结合\n",
    "\n",
    "In a given 2D binary array A, there are two islands.  (An island is a 4-directionally connected group of 1s not connected to any other 1s.)\n",
    "\n",
    "Now, we may change 0s to 1s so as to connect the two islands together to form 1 island.\n",
    "\n",
    "Return the smallest number of 0s that must be flipped.  (It is guaranteed that the answer is at least 1.)"
   ]
  },
  {
   "cell_type": "code",
   "execution_count": 13,
   "metadata": {},
   "outputs": [],
   "source": [
    "class Solution(object):\n",
    "    def shortestBridge(self, A):\n",
    "        R, C = len(A), len(A[0])\n",
    "\n",
    "        def neighbors(r, c):\n",
    "            for nr, nc in ((r-1,c),(r,c-1),(r+1,c),(r,c+1)):\n",
    "                if 0 <= nr < R and 0 <= nc < C:\n",
    "                    yield nr, nc                      # 注意yield的用法，可以节省内存空间\n",
    "\n",
    "        def get_components():          # 使用深度优先找出\n",
    "            done = set()\n",
    "            components = []\n",
    "            for r, row in enumerate(A):\n",
    "                for c, val in enumerate(row):\n",
    "                    if val and (r, c) not in done:\n",
    "                        # Start dfs\n",
    "                        stack = [(r, c)]\n",
    "                        seen = {(r, c)}\n",
    "                        while stack:\n",
    "                            node = stack.pop()\n",
    "                            for nei in neighbors(*node):             # 由于这个函数用的是yield而不是return，所以参数前面带个*\n",
    "                                if A[nei[0]][nei[1]] and nei not in seen:\n",
    "                                    stack.append(nei)\n",
    "                                    seen.add(nei)\n",
    "                        done |= seen     # 将seen里面done没有的加入到done里面去，这里seen和done都是元组字典的形式，这种赋值方式很新颖，列表字典不能这样\n",
    "                        components.append(seen)\n",
    "            return components\n",
    "        \n",
    "        # 下面进行的是广度优先搜索，采用队列的结构\n",
    "        source, target = get_components()\n",
    "        # print(source, target)\n",
    "        queue = collections.deque([(node, 0) for node in source])\n",
    "        done = set(source)\n",
    "        while queue:\n",
    "            node, d = queue.popleft()\n",
    "            if node in target: return d-1\n",
    "            for nei in neighbors(*node):\n",
    "                if nei not in done:\n",
    "                    queue.append((nei, d+1))\n",
    "                    done.add(nei)"
   ]
  },
  {
   "cell_type": "markdown",
   "metadata": {},
   "source": [
    "### [746. Min Cost Climbing Stairs](https://leetcode.com/problems/min-cost-climbing-stairs/)\n",
    "\n",
    "#### 动态规划\n",
    "\n",
    "On a staircase, the i-th step has some non-negative cost cost[i] assigned (0 indexed).\n",
    "\n",
    "Once you pay the cost, you can either climb one or two steps. You need to find minimum cost to reach the top of the floor, and you can either start from the step with index 0, or the step with index 1."
   ]
  },
  {
   "cell_type": "code",
   "execution_count": 15,
   "metadata": {},
   "outputs": [],
   "source": [
    "# \n",
    "class Solution:\n",
    "    def minCostClimbingStairs(self, cost):\n",
    "        cost = cost\n",
    "        if len(cost)==2:\n",
    "            return min(cost)\n",
    "        mincost = [cost[0],cost[1]]+[0]*(len(cost)-2)\n",
    "        #mincost[1] = min(cost[0],cost[1])\n",
    "        for i in range(2,len(mincost)):\n",
    "            mincost[i] = min(mincost[i-1],mincost[i-2])+cost[i]\n",
    "        return min(mincost[-1],mincost[-2])"
   ]
  },
  {
   "cell_type": "markdown",
   "metadata": {},
   "source": [
    "Runtime: 48 ms, faster than 98.30% of Python3 online submissions for Min Cost Climbing Stairs.\n",
    "\n",
    "Memory Usage: 12.8 MB, less than 100.00% of Python3 online submissions for Min Cost Climbing Stairs."
   ]
  },
  {
   "cell_type": "markdown",
   "metadata": {},
   "source": [
    "### [63. Unique Paths II](https://leetcode.com/problems/unique-paths-ii/)\n",
    "\n",
    "A robot is located at the top-left corner of a m x n grid (marked 'Start' in the diagram below).\n",
    "\n",
    "The robot can only move either down or right at any point in time. The robot is trying to reach the bottom-right corner of the grid (marked 'Finish' in the diagram below).\n",
    "\n",
    "Now consider if some obstacles are added to the grids. How many unique paths would there be?\n",
    "\n"
   ]
  },
  {
   "cell_type": "code",
   "execution_count": 16,
   "metadata": {},
   "outputs": [],
   "source": [
    "class Solution:\n",
    "    def uniquePathsWithObstacles(self, obstacleGrid):\n",
    "        col,row = len(obstacleGrid[0]),len(obstacleGrid)\n",
    "        matrix = [[0 for _ in range(col)] for _ in range(row)]\n",
    "        for j in range(col):\n",
    "            if obstacleGrid[0][j] != 1:\n",
    "                matrix[0][j] = 1 \n",
    "            else:\n",
    "                break\n",
    "        for i in range(row):\n",
    "            if obstacleGrid[i][0] != 1:\n",
    "                matrix[i][0] = 1 \n",
    "            else:\n",
    "                break                \n",
    "        for i in range(1,row):\n",
    "            for j in range(1,col):\n",
    "                if obstacleGrid[i][j] != 1:\n",
    "                    matrix[i][j] = matrix[i-1][j] + matrix[i][j-1]\n",
    "                else:\n",
    "                    pass\n",
    "        return matrix[-1][-1]"
   ]
  },
  {
   "cell_type": "markdown",
   "metadata": {},
   "source": [
    "Runtime: 44 ms, faster than 72.82% of Python3 online submissions for Unique Paths II.\n",
    "\n",
    "Memory Usage: 12.9 MB, less than 97.78% of Python3 online submissions for Unique Paths II."
   ]
  },
  {
   "cell_type": "markdown",
   "metadata": {},
   "source": [
    "### [213. House Robber II](https://leetcode.com/problems/house-robber-ii/)\n",
    "\n",
    "You are a professional robber planning to rob houses along a street. Each house has a certain amount of money stashed. All houses at this place are arranged in a circle. That means the first house is the neighbor of the last one. Meanwhile, adjacent houses have security system connected and it will automatically contact the police if two adjacent houses were broken into on the same night.\n",
    "\n",
    "Given a list of non-negative integers representing the amount of money of each house, determine the maximum amount of money you can rob tonight without alerting the police."
   ]
  },
  {
   "cell_type": "code",
   "execution_count": 17,
   "metadata": {},
   "outputs": [],
   "source": [
    "class Solution:\n",
    "    def rob(self, nums):\n",
    "        if len(nums)==1:\n",
    "            return nums[0]\n",
    "        nums1 = [0]+nums[:-1]\n",
    "        nums2 = [0]+nums[1:]\n",
    "        for i in range(2,len(nums1)):\n",
    "            nums1[i] = max(nums1[i]+nums1[i-2],nums1[i-1])\n",
    "            nums2[i] = max(nums2[i]+nums2[i-2],nums2[i-1])\n",
    "        return max(nums1[-1],nums2[-1])"
   ]
  },
  {
   "cell_type": "markdown",
   "metadata": {},
   "source": [
    "Runtime: 28 ms, faster than 77.99% of Python3 online submissions for House Robber II.\n",
    "\n",
    "Memory Usage: 12.8 MB, less than 100.00% of Python3 online submissions for House Robber II."
   ]
  },
  {
   "cell_type": "markdown",
   "metadata": {},
   "source": [
    "### [300. Longest Increasing Subsequence](https://leetcode.com/problems/longest-increasing-subsequence/)\n",
    "\n",
    "Given an unsorted array of integers, find the length of longest increasing subsequence."
   ]
  },
  {
   "cell_type": "markdown",
   "metadata": {},
   "source": [
    "$$\n",
    "DP[i]:从头到第i个元素（包含第i个元素）的最长子序列长度\n",
    "$$\n",
    "$$\n",
    "遍历 i: 0→n-1:\\\\\n",
    "遍历 j: 0→i-1: \\\\\n",
    "如果 nums[j]<nums[i]:\\\\\n",
    "DP[i] = Max\\{DP[j]\\} + 1\\\\\n",
    "返回  Max\\{DP[0]...DP[n-1]\\}\n",
    "$$"
   ]
  },
  {
   "cell_type": "code",
   "execution_count": 40,
   "metadata": {},
   "outputs": [],
   "source": [
    "#DP标准代码\n",
    "class Solution:\n",
    "    def lengthOfLIS(self, nums):\n",
    "        if not nums or not len(nums):\n",
    "            return 0\n",
    "\n",
    "        dp = [1 for _ in range(len(nums))]\n",
    "        for i in range(1,len(nums)):\n",
    "            for j in range(i):\n",
    "                if nums[j] < nums[i]:\n",
    "                    dp[i] = max(dp[i], dp[j] + 1)\n",
    "\n",
    "        return max(dp)\n",
    "\n",
    "# 另一种写法，算法复杂度也是O(n^2)\n",
    "class Solution:\n",
    "    def lengthOfLIS(self, nums):\n",
    "        ends = [(float('-inf'), 0)]  # 加一个-inf的目的是下面max的时候防止没有值，就能保证至少有一个值\n",
    "        for a in nums:\n",
    "            ends += (a, max(m + 1 for b, m in ends if a > b)),   # 注意这个逗号，如果不用append的话一定要加这个逗号\n",
    "            # ends第i个元组的后一个数字就是包括第i个数字的升序子序列的最长长度，一定是包括nums[i]\n",
    "        return max(i[1] for i in ends)\n",
    "    \n",
    "# 更优的解法参考\n",
    "#https://leetcode.com/problems/longest-increasing-subsequence/discuss/74824/JavaPython-Binary-search-O(nlogn)-time-with-explanation\n",
    "# 算法复杂度O（nlogn）\n",
    "class Solution:\n",
    "    def lengthOfLIS(self, nums):\n",
    "        tails = [0] * len(nums)\n",
    "        size = 0\n",
    "        for x in nums:\n",
    "            i, j = 0, size\n",
    "            while i != j:\n",
    "                m = (i + j) / 2\n",
    "                if tails[m] < x:\n",
    "                    i = m + 1\n",
    "                else:\n",
    "                    j = m\n",
    "            tails[i] = x\n",
    "            size = max(i + 1, size)\n",
    "        return size"
   ]
  },
  {
   "cell_type": "markdown",
   "metadata": {},
   "source": [
    "Runtime: 584 ms, faster than 71.92% of Python3 online submissions for Longest Increasing Subsequence.\n",
    "\n",
    "Memory Usage: 13.1 MB, less than 97.44% of Python3 online submissions for Longest Increasing Subsequence."
   ]
  },
  {
   "cell_type": "markdown",
   "metadata": {},
   "source": [
    "### [516. Longest Palindromic Subsequence](https://leetcode.com/problems/longest-palindromic-subsequence/)\n",
    "\n",
    "Given a string s, find the longest palindromic subsequence's length in s. You may assume that the maximum length of s is 1000."
   ]
  },
  {
   "cell_type": "code",
   "execution_count": 6,
   "metadata": {},
   "outputs": [],
   "source": [
    "class Solution:\n",
    "    def longestPalindromeSubseq(self, s: str) -> int:\n",
    "        s_len = len(s)\n",
    "        dp = [[0 for _ in range(s_len)] for _ in range(s_len)]\n",
    "        for diag in range(s_len):\n",
    "            dp[diag][diag] = 1\n",
    "        temp = [i for i in range(1,s_len)][::-1]\n",
    "        for i in range(s_len-1):\n",
    "            delta = temp.pop()\n",
    "            plus = s_len-delta\n",
    "            for j in range(plus):\n",
    "                x,y = j,j+delta\n",
    "                if s[x]==s[y]:\n",
    "                    dp[x][y] = dp[x+1][y-1]+2\n",
    "                else:\n",
    "                    dp[x][y] = max(dp[x][y-1], dp[x+1][y])\n",
    "        return dp[0][s_len-1]\n",
    "# 上面那种遍历方法有点傻，可以改成下面这种\n",
    "class Solution:\n",
    "    def longestPalindromeSubseq(self, s: str) -> int:\n",
    "        dp = [[0 for i in range(len(s))] for j in range(len(s))]\n",
    "        \n",
    "        for i in range(len(dp)-1, -1, -1):\n",
    "            dp[i][i] = 1\n",
    "            for j in range(i+1, len(dp)):\n",
    "                if s[i] == s[j]:\n",
    "                    dp[i][j] = dp[i+1][j-1]+2\n",
    "                else:\n",
    "                    dp[i][j] = max(dp[i][j-1], dp[i+1][j])\n",
    "        return dp[0][-1]\n",
    "# 对于长度为7来说的str，遍历顺序是[5 6][4 5][4 6][3 4][3 5][3 6] ..."
   ]
  },
  {
   "cell_type": "markdown",
   "metadata": {},
   "source": [
    "思路：\n",
    "对于回文来说，必须保证两头的字符都相同。用 dp[i][j] 表示从字符串第 i 个字符到第 j 个字符之间的最长回文，比较这段区间外的两个字符，如果发现它们相等，它们就肯定能构成新的最长回文。而最长的回文长度会保存在 dp[0][n−1] 里。因此，可以推导出如下的递推公式。\n",
    "\n",
    "当首尾的两个字符相等的时候 dp[0][n−1]=dp[1][n−2] + 2，\n",
    "\n",
    "否则，dp[0][n−1]=max(dp[1][n−1], dp[0][n−2])。"
   ]
  },
  {
   "cell_type": "markdown",
   "metadata": {},
   "source": [
    "上面那种\n",
    "\n",
    "Runtime: 2092 ms, faster than 23.17% of Python3 online submissions for Longest Palindromic Subsequence.\n",
    "\n",
    "Memory Usage: 30.1 MB, less than 46.15% of Python3 online submissions for Longest Palindromic Subsequence.\n",
    "\n",
    "下面那种：\n",
    "\n",
    "Runtime: 1724 ms, faster than 45.09% of Python3 online submissions for Longest Palindromic Subsequence.\n",
    "\n",
    "Memory Usage: 30 MB, less than 46.15% of Python3 online submissions for Longest Palindromic Subsequence."
   ]
  },
  {
   "cell_type": "markdown",
   "metadata": {},
   "source": [
    "### [34. Find First and Last Position of Element in Sorted Array](https://leetcode.com/problems/find-first-and-last-position-of-element-in-sorted-array/)\n",
    "\n",
    "Given an array of integers nums sorted in ascending order, find the starting and ending position of a given target value.\n",
    "\n",
    "Your algorithm's runtime complexity must be in the order of O(log n).\n",
    "\n",
    "If the target is not found in the array, return [-1, -1]."
   ]
  },
  {
   "cell_type": "code",
   "execution_count": 7,
   "metadata": {},
   "outputs": [],
   "source": [
    "# Approach 1: Linear Scan\n",
    "class Solution:\n",
    "    def searchRange(self, nums, target):\n",
    "        # find the index of the leftmost appearance of `target`. if it does not\n",
    "        # appear, return [-1, -1] early.\n",
    "        for i in range(len(nums)):\n",
    "            if nums[i] == target:\n",
    "                left_idx = i\n",
    "                break\n",
    "        else:\n",
    "            return [-1, -1]\n",
    "\n",
    "        # find the index of the rightmost appearance of `target` (by reverse\n",
    "        # iteration). it is guaranteed to appear.\n",
    "        for j in range(len(nums)-1, -1, -1):\n",
    "            if nums[j] == target:\n",
    "                right_idx = j\n",
    "                break\n",
    "\n",
    "        return [left_idx, right_idx]"
   ]
  },
  {
   "cell_type": "code",
   "execution_count": 9,
   "metadata": {},
   "outputs": [],
   "source": [
    "# 二分搜索\n",
    "class Solution:\n",
    "    # returns leftmost (or rightmost) index at which `target` should be inserted in sorted\n",
    "    # array `nums` via binary search.\n",
    "    def extreme_insertion_index(self, nums, target, left):\n",
    "        lo = 0\n",
    "        hi = len(nums)\n",
    "\n",
    "        while lo < hi:\n",
    "            mid = (lo + hi) // 2\n",
    "            if nums[mid] > target or (left and target == nums[mid]):\n",
    "                hi = mid\n",
    "            else:\n",
    "                lo = mid+1\n",
    "        return lo\n",
    "\n",
    "    def searchRange(self, nums, target):\n",
    "        left_idx = self.extreme_insertion_index(nums, target, True)\n",
    "        # assert that `left_idx` is within the array bounds and that `target`\n",
    "        # is actually in `nums`.\n",
    "        if left_idx == len(nums) or nums[left_idx] != target:\n",
    "            return [-1, -1]\n",
    "        return [left_idx, self.extreme_insertion_index(nums, target, False)-1]"
   ]
  },
  {
   "cell_type": "markdown",
   "metadata": {},
   "source": [
    "### [35. Search Insert Position](https://leetcode.com/problems/search-insert-position/)\n",
    "\n",
    "#### 二分搜索的简单版例子\n",
    "\n",
    "Given a sorted array and a target value, return the index if the target is found. If not, return the index where it would be if it were inserted in order.\n",
    "\n",
    "You may assume no duplicates in the array."
   ]
  },
  {
   "cell_type": "code",
   "execution_count": 10,
   "metadata": {},
   "outputs": [],
   "source": [
    "class Solution:\n",
    "    def searchInsert(self, nums, target):\n",
    "        lo = 0\n",
    "        hi = len(nums)\n",
    "        \n",
    "        while lo < hi:\n",
    "            mid = (lo+hi) // 2\n",
    "            if nums[mid] == target:\n",
    "                return mid\n",
    "            if nums[mid] > target:\n",
    "                hi = mid\n",
    "            else:\n",
    "                lo = mid+1\n",
    "        return lo"
   ]
  },
  {
   "cell_type": "markdown",
   "metadata": {},
   "source": [
    "### [69. Sqrt(x)](https://leetcode.com/problems/sqrtx/)\n",
    "\n",
    "Implement int sqrt(int x).\n",
    "\n",
    "Compute and return the square root of x, where x is guaranteed to be a non-negative integer.\n",
    "\n",
    "Since the return type is an integer, the decimal digits are truncated and only the integer part of the result is returned."
   ]
  },
  {
   "cell_type": "code",
   "execution_count": 2,
   "metadata": {},
   "outputs": [],
   "source": [
    "# 二分搜索\n",
    "class Solution:\n",
    "    def mySqrt(self, x):\n",
    "        if x == 1:\n",
    "            return 1\n",
    "        lo, hi = 0, x\n",
    "        while lo < hi:\n",
    "            mid = (lo+hi) // 2\n",
    "            if mid*mid == x:\n",
    "                return mid\n",
    "            if mid*mid > x:\n",
    "                hi = mid\n",
    "            if mid*mid < x:\n",
    "                lo = mid\n",
    "            if mid*mid < x and (mid+1)*(mid+1) > x:\n",
    "                return mid\n",
    "        return lo"
   ]
  },
  {
   "cell_type": "markdown",
   "metadata": {},
   "source": [
    "Runtime: 32 ms, faster than 76.68% of Python3 online submissions for Sqrt(x).\n",
    "\n",
    "Memory Usage: 12.7 MB, less than 100.00% of Python3 online submissions for Sqrt(x)."
   ]
  },
  {
   "cell_type": "markdown",
   "metadata": {},
   "source": [
    "### [1029. Two City Scheduling](https://leetcode.com/problems/two-city-scheduling/)\n",
    "\n",
    "There are 2N people a company is planning to interview. The cost of flying the i-th person to city A is costs[i][0], and the cost of flying the i-th person to city B is costs[i][1].\n",
    "\n",
    "Return the minimum cost to fly every person to a city such that exactly N people arrive in each city.\n",
    "\n",
    "分类：Easy 贪婪"
   ]
  },
  {
   "cell_type": "code",
   "execution_count": 3,
   "metadata": {},
   "outputs": [],
   "source": [
    "class Solution(object):\n",
    "    def twoCitySchedCost(self, costs):\n",
    "        \"\"\"\n",
    "        :type costs: List[List[int]]\n",
    "        :rtype: int\n",
    "        \"\"\"\n",
    "        n2 = len(costs)\n",
    "        n = int(n2 / 2)\n",
    "        cost_related = [cost[1] - cost[0] for cost in costs]   # 计算B城与A城的花费差值，越小的话说明去B越划算\n",
    "        sum1 = sum([cost[0] for cost in costs])   # sum1 表示计算所有人去A城所需要花的价钱\n",
    "        sum2 = sum(sorted(cost_related)[0:n])    # sum2 表示取前n个去B最划算的\n",
    "        return sum1+sum2"
   ]
  },
  {
   "cell_type": "markdown",
   "metadata": {},
   "source": [
    "#### 法二：动态规划（稍难理解）"
   ]
  },
  {
   "cell_type": "code",
   "execution_count": 5,
   "metadata": {},
   "outputs": [],
   "source": [
    "class Solution():\n",
    "    def twoCitySchedCost(self, cost):\n",
    "        n = len(cost) // 2\n",
    "        dp = [[0 for _ in range(n + 1)] for _ in range(n + 1)]\n",
    "        # dp[i][j]表示去i个A城市和j个B城市所需要花费的最低价格\n",
    "        # 没加一个[costA,costB]，只有两个选择，要么选择costA，要么选择costB\n",
    "        for i in range(1, n + 1):\n",
    "            dp[i][0] = dp[i - 1][0] + cost[i - 1][0]  # 第一行表示全部都去B城市的花费\n",
    "        for i in range(1, n+1):\n",
    "            dp[0][i] = dp[0][i - 1] + cost[i - 1][1]  # 第一列表示全部都去A城市的花费\n",
    "        for i in range(1, n + 1):\n",
    "            for j in range(1, n + 1):\n",
    "                dp[i][j] = min(dp[i - 1][j] + cost[i + j - 1][0], dp[i][j - 1] + cost[i + j - 1][1])\n",
    "        return dp[-1][-1]"
   ]
  },
  {
   "cell_type": "markdown",
   "metadata": {},
   "source": [
    "### [860. Lemonade Change](https://leetcode.com/problems/lemonade-change/)\n",
    "\n",
    "At a lemonade stand, each lemonade costs $5. \n",
    "\n",
    "Customers are standing in a queue to buy from you, and order one at a time (in the order specified by bills).\n",
    "\n",
    "Each customer will only buy one lemonade and pay with either a 5, 10, or 20 bill.  \n",
    "You must provide the correct change to each customer, so that the net transaction is that the customer pays $5.\n",
    "\n",
    "Note that you don't have any change in hand at first.\n",
    "\n",
    "Return true if and only if you can provide every customer with correct change.\n",
    "\n",
    "分类：Easy， 贪婪"
   ]
  },
  {
   "cell_type": "code",
   "execution_count": 6,
   "metadata": {},
   "outputs": [],
   "source": [
    "# 思想一样，速度慢\n",
    "class Solution:\n",
    "    def lemonadeChange(self, bills) -> bool:\n",
    "        temp = []\n",
    "        for bill in bills:\n",
    "            if bill == 5:\n",
    "                temp.append(bill)\n",
    "            if bill == 10:\n",
    "                if 5 in temp:\n",
    "                    temp.remove(5)\n",
    "                    temp.append(10)\n",
    "                else:\n",
    "                    return False\n",
    "            if bill == 20:\n",
    "                if 5 in temp and 10 in temp:\n",
    "                    temp.remove(5)\n",
    "                    temp.remove(10)\n",
    "                elif 5 in temp and temp.count(5)>=3 and 10 not in temp:\n",
    "                    temp.remove(5);temp.remove(5);temp.remove(5)\n",
    "                else:\n",
    "                    return False\n",
    "        return True\n",
    "    \n",
    "# 思想一样，速度快一些\n",
    "class Solution(object): #aw\n",
    "    def lemonadeChange(self, bills):\n",
    "        five = ten = 0\n",
    "        for bill in bills:\n",
    "            if bill == 5:\n",
    "                five += 1\n",
    "            elif bill == 10:\n",
    "                if not five: return False\n",
    "                five -= 1\n",
    "                ten += 1\n",
    "            else:\n",
    "                if ten and five:\n",
    "                    ten -= 1\n",
    "                    five -= 1\n",
    "                elif five >= 3:\n",
    "                    five -= 3\n",
    "                else:\n",
    "                    return False\n",
    "        return True"
   ]
  },
  {
   "cell_type": "markdown",
   "metadata": {},
   "source": [
    "### [991. Broken Calculator](https://leetcode.com/problems/broken-calculator/)\n",
    "\n",
    "On a broken calculator that has a number showing on its display, we can perform two operations:\n",
    "\n",
    "Double: Multiply the number on the display by 2, or;\n",
    "Decrement: Subtract 1 from the number on the display.\n",
    "Initially, the calculator is displaying the number X.\n",
    "\n",
    "Return the minimum number of operations needed to display the number Y.\n",
    "\n",
    "思路：X到Y难，但是Y到X容易，因为每一步都是确定的选择\n",
    "\n",
    "Y到X就是要么（1）除以2，（2）加1\n",
    "\n",
    "如果Y<X：只能加1，如果Y>X就要分情况讨论:\n",
    "\n",
    "1. 如果Y是奇数，必然加1\n",
    "\n",
    "2. 如果Y是偶数，必然除以2得到Y/2，（另外一种操作方式是+1,+1,/2得到Y/2+1，但是比/2,+1用的次数多，所以必然是先要/2）\n"
   ]
  },
  {
   "cell_type": "code",
   "execution_count": 10,
   "metadata": {},
   "outputs": [],
   "source": [
    "class Solution(object):\n",
    "    def brokenCalc(self, X, Y):\n",
    "        ans = 0\n",
    "        while Y > X:\n",
    "            ans += 1\n",
    "            if Y%2: Y += 1\n",
    "            else: Y /= 2\n",
    "        return ans + X-Y"
   ]
  },
  {
   "cell_type": "markdown",
   "metadata": {},
   "source": [
    "### [881. Boats to Save People](https://leetcode.com/problems/boats-to-save-people/)\n",
    "\n",
    "The i-th person has weight people[i], and each boat can carry a maximum weight of limit.\n",
    "\n",
    "Each boat carries at most 2 people at the same time, provided the sum of the weight of those people is at most limit.\n",
    "\n",
    "Return the minimum number of boats to carry every given person.  (It is guaranteed each person can be carried by a boat.)\n",
    "\n",
    "思路：\n",
    "\n",
    "先将人的体重从小到大进行排序\n",
    "\n",
    "如果最重的人和最轻的人没法坐上一条船，则最胖的人独享一条船，否则两个人享用一条船，然后两个指针分别向前（一定会向前）\n",
    "和向后（在两个人共享了一条船后才会向右推移一个）推移一个"
   ]
  },
  {
   "cell_type": "code",
   "execution_count": 11,
   "metadata": {},
   "outputs": [],
   "source": [
    "class Solution(object):\n",
    "    def numRescueBoats(self, people, limit):\n",
    "        people.sort()\n",
    "        i, j = 0, len(people) - 1\n",
    "        ans = 0\n",
    "        while i <= j:\n",
    "            ans += 1\n",
    "            if people[i] + people[j] <= limit:\n",
    "                i += 1\n",
    "            j -= 1\n",
    "        return ans"
   ]
  },
  {
   "cell_type": "markdown",
   "metadata": {},
   "source": [
    "### [206. Reverse Linked List](https://leetcode.com/problems/reverse-linked-list/)\n",
    "\n",
    "Reverse a singly linked list.\n",
    "\n",
    "[详细讲解](https://www.cnblogs.com/jay-huaxiao/p/12286133.html)"
   ]
  },
  {
   "cell_type": "code",
   "execution_count": 12,
   "metadata": {},
   "outputs": [],
   "source": [
    "# Definition for singly-linked list.\n",
    "# class ListNode:\n",
    "#     def __init__(self, x):\n",
    "#         self.val = x\n",
    "#         self.next = None\n",
    "\n",
    "class Solution:\n",
    "    def reverseList(self, head):\n",
    "        cur, prev = head, None\n",
    "        while cur:\n",
    "            next_temp = cur.next\n",
    "            cur.next = prev\n",
    "            prev = cur\n",
    "            cur = next_temp\n",
    "        return prev"
   ]
  },
  {
   "cell_type": "code",
   "execution_count": 13,
   "metadata": {},
   "outputs": [
    {
     "name": "stdout",
     "output_type": "stream",
     "text": [
      "9 1 2 3\n"
     ]
    }
   ],
   "source": [
    "# 使用示例\n",
    "S = Solution()\n",
    "class Node(object):\n",
    "    def __init__(self, data, next=None):\n",
    "        self.val = data\n",
    "        self.next = next\n",
    "\n",
    "l1 = Node(3)\n",
    "l1.next = Node(2)\n",
    "l1.next.next = Node(1)\n",
    "l1.next.next.next = Node(9)\n",
    "l1 = S.reverseList(l1)\n",
    "print (l1.val, l1.next.val, l1.next.next.val, l1.next.next.next.val)"
   ]
  },
  {
   "cell_type": "markdown",
   "metadata": {},
   "source": [
    "### [24. Swap Nodes in Pairs](https://leetcode.com/problems/swap-nodes-in-pairs/)\n",
    "\n",
    "Given a linked list, swap every two adjacent nodes and return its head.\n",
    "\n",
    "You may not modify the values in the list's nodes, only nodes itself may be changed."
   ]
  },
  {
   "cell_type": "code",
   "execution_count": 15,
   "metadata": {},
   "outputs": [],
   "source": [
    "# Definition for singly-linked list.\n",
    "# class ListNode:\n",
    "#     def __init__(self, x):\n",
    "#         self.val = x\n",
    "#         self.next = None\n",
    "\n",
    "class Solution:\n",
    "    def swapPairs(self, head):\n",
    "        p=head\n",
    "        while(p!=None):\n",
    "            if(p.next!=None):\n",
    "                p.val,p.next.val=p.next.val,p.val\n",
    "                p=p.next\n",
    "            p=p.next\n",
    "        return head"
   ]
  },
  {
   "cell_type": "markdown",
   "metadata": {},
   "source": [
    "### [141. Linked List Cycle](https://leetcode.com/problems/linked-list-cycle/)\n",
    "\n",
    "Given a linked list, determine if it has a cycle in it.\n",
    "\n",
    "To represent a cycle in the given linked list, we use an integer pos which represents the position (0-indexed) in the linked list where tail connects to. If pos is -1, then there is no cycle in the linked list.\n",
    "\n",
    "思路：用一个快指针加一个慢指针"
   ]
  },
  {
   "cell_type": "code",
   "execution_count": 16,
   "metadata": {},
   "outputs": [],
   "source": [
    "class Solution:\n",
    "    def hasCycle(self, head):\n",
    "        fast = slow = head\n",
    "        while slow and fast and fast.next:\n",
    "            slow = slow.next\n",
    "            fast = fast.next.next\n",
    "            if slow is fast:\n",
    "                return True\n",
    "        return False"
   ]
  },
  {
   "cell_type": "markdown",
   "metadata": {},
   "source": [
    "### [703. Kth Largest Element in a Stream](https://leetcode.com/problems/kth-largest-element-in-a-stream/)\n",
    "\n",
    "Design a class to find the kth largest element in a stream. Note that it is the kth largest element in the sorted order, not the kth distinct element.\n",
    "\n",
    "Your KthLargest class will have a constructor which accepts an integer k and an integer array nums, which contains initial elements from the stream. For each call to the method KthLargest.add, return the element representing the kth largest element in the stream."
   ]
  },
  {
   "cell_type": "code",
   "execution_count": 18,
   "metadata": {},
   "outputs": [],
   "source": [
    "import heapq\n",
    "class KthLargest:\n",
    "    \"\"\"\n",
    "    The idea is to ALWAYS maintain a MIN heap with only K elements\n",
    "    - in this case, the K-the largest element (in the stream)\n",
    "    - will always be at the root position\n",
    "    \"\"\"\n",
    "    def __init__(self, k, nums):\n",
    "        self.heap = []\n",
    "        self.k = k\n",
    "        \n",
    "        for num in nums:\n",
    "            self.add(num) # add elements using the function below\n",
    "        \n",
    "    def add(self, val):\n",
    "        \n",
    "        heapq.heappush(self.heap, val)\n",
    "        \n",
    "        # if after adding the new item causes \n",
    "        # the heap size to increase beyond k, \n",
    "        # then pop out the smallest element \n",
    "        if len(self.heap) > self.k: \n",
    "            heapq.heappop(self.heap)\n",
    "            \n",
    "        return self.heap[0] # the root element\n",
    "# Your KthLargest object will be instantiated and called as such:\n",
    "# obj = KthLargest(k, nums)\n",
    "# param_1 = obj.add(val)"
   ]
  },
  {
   "cell_type": "code",
   "execution_count": null,
   "metadata": {},
   "outputs": [],
   "source": []
  }
 ],
 "metadata": {
  "kernelspec": {
   "display_name": "Python 3",
   "language": "python",
   "name": "python3"
  },
  "language_info": {
   "codemirror_mode": {
    "name": "ipython",
    "version": 3
   },
   "file_extension": ".py",
   "mimetype": "text/x-python",
   "name": "python",
   "nbconvert_exporter": "python",
   "pygments_lexer": "ipython3",
   "version": "3.5.5"
  },
  "widgets": {
   "state": {},
   "version": "1.1.2"
  }
 },
 "nbformat": 4,
 "nbformat_minor": 2
}
