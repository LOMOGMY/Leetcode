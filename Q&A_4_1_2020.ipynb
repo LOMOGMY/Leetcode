{
 "cells": [
  {
   "cell_type": "markdown",
   "metadata": {},
   "source": [
    "### [102. Binary Tree Level Order Traversal](https://leetcode.com/problems/binary-tree-level-order-traversal/)"
   ]
  },
  {
   "cell_type": "markdown",
   "metadata": {},
   "source": [
    "Given a binary tree, return the level order traversal of its nodes' values. (ie, from left to right, level by level)."
   ]
  },
  {
   "cell_type": "code",
   "execution_count": 2,
   "metadata": {},
   "outputs": [],
   "source": [
    "# BFS\n",
    "class Solution:\n",
    "    def levelOrder(self, root):\n",
    "        if not root: return []\n",
    "    \n",
    "        result = []\n",
    "        queue = collections.deque()\n",
    "        queue.append(root)\n",
    "        # visited = set(root)\n",
    "        \n",
    "        while queue:\n",
    "            level_size = len(queue)\n",
    "            current_level = []\n",
    "            \n",
    "            for _ in range(level_size):\n",
    "                node = queue.popleft()\n",
    "                current_level.append(node.val)\n",
    "                if node.left: queue.append(node.left)\n",
    "                if node.right: queue.append(node.right)\n",
    "            \n",
    "            result.append(current_level)\n",
    "        \n",
    "        return result"
   ]
  },
  {
   "cell_type": "code",
   "execution_count": 3,
   "metadata": {},
   "outputs": [],
   "source": [
    "# DFS 递归\n",
    "class Solution(object):\n",
    "    def levelOrder(self, root):\n",
    "        if not root: return []\n",
    "        self.result = []\n",
    "        self._dfs(root,0)\n",
    "        return self.result\n",
    "    \n",
    "    def _dfs(self, node, level):\n",
    "        if not node: return\n",
    "        \n",
    "        if len(self.result) < level + 1: # self.result是一个二维数组\n",
    "            self.result.append([])\n",
    "        self.result[level].append(node.val)\n",
    "        \n",
    "        self._dfs(node.left, level + 1)\n",
    "        self._dfs(node.right, level + 1)"
   ]
  },
  {
   "cell_type": "markdown",
   "metadata": {},
   "source": [
    "### [104. Maximum Depth of Binary Tree](https://leetcode.com/problems/maximum-depth-of-binary-tree/)"
   ]
  },
  {
   "cell_type": "code",
   "execution_count": 1,
   "metadata": {},
   "outputs": [],
   "source": [
    "class Solution:\n",
    "    def maxDepth(self, root):\n",
    "        if not root: return 0\n",
    "        return 1 + max(self.maxDepth(root.left), self.maxDepth(root.right))"
   ]
  },
  {
   "cell_type": "markdown",
   "metadata": {},
   "source": [
    "### [111. Minimum Depth of Binary Tree](https://leetcode.com/problems/minimum-depth-of-binary-tree/)"
   ]
  },
  {
   "cell_type": "code",
   "execution_count": 4,
   "metadata": {},
   "outputs": [],
   "source": [
    "class Solution:\n",
    "    def minDepth(self, root):\n",
    "        if not root: return 0\n",
    "        if not root.left: return 1+self.minDepth(root.right)  # 如果该跟节点没有左节点，则...\n",
    "        if not root.right: return 1+self.minDepth(root.left)\n",
    "        \n",
    "        # 分而治之\n",
    "        leftMinDepth = self.minDepth(root.left)\n",
    "        rightMinDepth = self.minDepth(root.right)\n",
    "        \n",
    "        return 1+min(leftMinDepth, rightMinDepth)"
   ]
  },
  {
   "cell_type": "markdown",
   "metadata": {},
   "source": [
    "### [22. Generate Parentheses](https://leetcode.com/problems/generate-parentheses/)\n",
    "\n",
    "Given n pairs of parentheses, write a function to generate all combinations of well-formed parentheses."
   ]
  },
  {
   "cell_type": "code",
   "execution_count": 2,
   "metadata": {},
   "outputs": [],
   "source": [
    "class Solution:\n",
    "    def generateParenthesis(self, n):\n",
    "        self.list = []\n",
    "        self._gen(0, 0, n, \"\")\n",
    "        return self.list\n",
    "    \n",
    "    def _gen(self, left, right, n, result):\n",
    "        if left == n and right == n:\n",
    "            self.list.append(result)\n",
    "            return\n",
    "        if left < n:\n",
    "            self._gen(left+1, right, n, result+\"(\")\n",
    "        if left > right and right < n:\n",
    "            self._gen(left, right+1, n, result+\")\")"
   ]
  },
  {
   "cell_type": "code",
   "execution_count": 5,
   "metadata": {},
   "outputs": [],
   "source": [
    "# 法二\n",
    "'''\n",
    "To get the result for n from n-1, simply take each string from n-1's result and insert '()' at every single position, and remove duplicated strings.\n",
    "\n",
    "For example, in order to get the result of 2 from the result of 1:\n",
    "result of 1 = ['()']\n",
    "insert at index 0 of first string, get ['()()']\n",
    "insert at index 1 of first string, get ['()()', '(())']\n",
    "insert at index 2 of first string, get ['()()', '(())', '()()']\n",
    "remove duplicates, get ['()()', '(())']\n",
    "'''\n",
    "class Solution:\n",
    "    def generateParenthesis(self, n):\n",
    "        if n == 0:\n",
    "            return ['']\n",
    "        \n",
    "        res = ['()']\n",
    "        for _ in range(1,n):\n",
    "            tmp = []\n",
    "            for x in res:\n",
    "                for i in range(len(x)):\n",
    "                    tmp.append(x[:i] + '()' + x[i:])\n",
    "            res = list(set(tmp))\n",
    "        return res"
   ]
  },
  {
   "cell_type": "markdown",
   "metadata": {},
   "source": [
    "### [36. Valid Sudoku](https://leetcode.com/problems/valid-sudoku/)\n",
    "\n",
    "### 未解决"
   ]
  },
  {
   "cell_type": "code",
   "execution_count": 2,
   "metadata": {},
   "outputs": [],
   "source": [
    "class Solution:\n",
    "    def isValidSudoku(self, board):\n",
    "        for ind_x,i in enumerate(board):\n",
    "            for ind_y,j in enumerate(i):\n",
    "                if j == '.':\n",
    "                    for x in range(1,10):\n",
    "                        if self.valid(board, ind_x, ind_y, str(x)):\n",
    "                            board[ind_x][ind_y] = str(x)\n",
    "                            if self.isValidSudoku(board):\n",
    "                                return True\n",
    "                            else:\n",
    "                                board[ind_x][ind_y] = '.'\n",
    "                    return False\n",
    "        return True\n",
    "    \n",
    "    def valid(self, board, row, col, c):\n",
    "        for i in range(9):\n",
    "            if board[i][col] != '.' and board[i][col] == c: # check row\n",
    "                return False\n",
    "            if board[row][i] != '.' and board[row][i] == c: # check column\n",
    "                return False\n",
    "            if row-row%3+i//3 != row or col-col%3+i%3 != col:\n",
    "                if board[row-row%3+i//3][col-col%3+i%3] != '.' and board[row-row%3+i//3][col-col%3+i%3] == c:\n",
    "                    return False\n",
    "        return True"
   ]
  },
  {
   "cell_type": "markdown",
   "metadata": {},
   "source": [
    "### [208. Implement Trie (Prefix Tree)](https://leetcode.com/problems/implement-trie-prefix-tree/)"
   ]
  },
  {
   "cell_type": "code",
   "execution_count": 1,
   "metadata": {},
   "outputs": [],
   "source": [
    "class Trie:\n",
    "    \n",
    "    # Tire是一个字典包含字典的结构\n",
    "    def __init__(self):\n",
    "        self.root = {}\n",
    "        self.end_of_word = \"#\"\n",
    "        \n",
    "\n",
    "    def insert(self, word):\n",
    "        node = self.root\n",
    "        for char in word:\n",
    "            node = node.setdefault(char, {}) # dict.setdefault(x,y) 指的是如果dict中没有x这个键就加一组x:y，否则就返回x对应得值\n",
    "        node[self.end_of_word] = self.end_of_word\n",
    "\n",
    "    def search(self, word: str):   # Trie树一定要到叶子节点才算结束，才算是查询到了一个词\n",
    "        node = self.root\n",
    "        for char in word:\n",
    "            if char not in node:\n",
    "                return False    \n",
    "            node = node[char]\n",
    "        return self.end_of_word in node  \n",
    "        \n",
    "\n",
    "    def startsWith(self, prefix: str):\n",
    "        \"\"\"\n",
    "        Returns if there is any word in the trie that starts with the given prefix.\n",
    "        \"\"\"\n",
    "        node = self.root\n",
    "        for char in prefix:\n",
    "            if char not in node:\n",
    "                return False\n",
    "            node = node[char]\n",
    "        return True\n",
    "# Your Trie object will be instantiated and called as such:\n",
    "# obj = Trie()\n",
    "# obj.insert(word)\n",
    "# param_2 = obj.search(word)\n",
    "# param_3 = obj.startsWith(prefix)"
   ]
  },
  {
   "cell_type": "markdown",
   "metadata": {},
   "source": [
    "### [212. Word Search II](https://leetcode.com/problems/word-search-ii/)"
   ]
  },
  {
   "cell_type": "markdown",
   "metadata": {},
   "source": [
    "字典树hard类型题目"
   ]
  },
  {
   "cell_type": "markdown",
   "metadata": {},
   "source": [
    "Given a 2D board and a list of words from the dictionary, find all words in the board.\n",
    "\n",
    "Each word must be constructed from letters of sequentially adjacent cell, where \"adjacent\" cells are those horizontally or vertically neighboring. The same letter cell may not be used more than once in a word."
   ]
  },
  {
   "cell_type": "code",
   "execution_count": 2,
   "metadata": {},
   "outputs": [],
   "source": [
    "dx = [-1, 1, 0, 0]\n",
    "dy = [0, 0, -1, 1]\n",
    "\n",
    "END_OF_WORD = \"#\"\n",
    "\n",
    "class Solution(object):\n",
    "    def findWords(self, board, words):\n",
    "        if not board or not board[0]: return []\n",
    "        if not words: return []\n",
    "        \n",
    "        self.result = set()\n",
    "        \n",
    "        root = collections.defaultdict()\n",
    "        for word in words:\n",
    "            node = root\n",
    "            for char in word:\n",
    "                node = node.setdefault(char, collections.defaultdict())\n",
    "            node[END_OF_WORD] = END_OF_WORD\n",
    "            \n",
    "        self.m, self.n = len(board), len(board[0])\n",
    "        \n",
    "        for i in range(self.m):\n",
    "            for j in range(self.n):\n",
    "                if board[i][j] in root:\n",
    "                    self._dfs(board, i, j, \"\", root)\n",
    "        return self.result\n",
    "    \n",
    "    def _dfs(self, board, i, j, cur_word, cur_dict):\n",
    "        cur_word += board[i][j]\n",
    "        cur_dict = cur_dict[board[i][j]]\n",
    "        \n",
    "        if END_OF_WORD in cur_dict:\n",
    "            self.result.add(cur_word)\n",
    "        \n",
    "        tmp, board[i][j] = board[i][j], '@'\n",
    "        for k in range(4):\n",
    "            x,y = i+dx[k], j+dy[k]\n",
    "            if 0 <= x < self.m and 0 <= y < self.n and board[x][y] != '@' and board[x][y] in cur_dict:\n",
    "                self._dfs(board, x, y, cur_word, cur_dict)\n",
    "        board[i][j] = tmp\n",
    "                    "
   ]
  },
  {
   "cell_type": "markdown",
   "metadata": {},
   "source": [
    "### [191. Number of 1 Bits](https://leetcode.com/problems/number-of-1-bits/)\n",
    "\n",
    "Write a function that takes an unsigned integer and return the number of '1' bits it has (also known as the Hamming weight).\n",
    "\n",
    "x和(x-1)做与操作的时候意味着清除x最后一位的1，比如11000（24）和10111（23）与操作后得到10000"
   ]
  },
  {
   "cell_type": "code",
   "execution_count": 1,
   "metadata": {},
   "outputs": [],
   "source": [
    "class Solution:\n",
    "    def hammingWeight(self, n):\n",
    "        count = 0\n",
    "        while n!=0:\n",
    "            n = n&(n-1)\n",
    "            count += 1\n",
    "        return count"
   ]
  },
  {
   "cell_type": "markdown",
   "metadata": {},
   "source": [
    "### [231. Power of Two](https://leetcode.com/problems/power-of-two/)\n",
    "\n",
    "Given an integer, write a function to determine if it is a power of two."
   ]
  },
  {
   "cell_type": "code",
   "execution_count": 4,
   "metadata": {},
   "outputs": [],
   "source": [
    "# x和(x-1)做与操作的时候意味着清除x最后一位的1，2的幂次方必然是只有第一位为1，后面都是0\n",
    "class Solution:\n",
    "    def isPowerOfTwo(self, n):\n",
    "        if n&(n-1) ==0:\n",
    "            return True\n",
    "        else: return False\n",
    "\n",
    "# or\n",
    "\n",
    "class Solution:\n",
    "    def isPowerOfTwo(self, n):\n",
    "        return n>0 and not (n & (n-1))"
   ]
  },
  {
   "cell_type": "markdown",
   "metadata": {},
   "source": [
    "### [338. Counting Bits](https://leetcode.com/problems/counting-bits/)\n",
    "\n",
    "Given a non negative integer number num. For every numbers i in the range 0 ≤ i ≤ num calculate the number of 1's in their binary representation and return them as an array."
   ]
  },
  {
   "cell_type": "code",
   "execution_count": 6,
   "metadata": {},
   "outputs": [],
   "source": [
    "class Solution:\n",
    "    def countBits(self, num):\n",
    "        if num == 0: return [0]\n",
    "        bits = [0]*(num+1)\n",
    "        bits[0] = 0\n",
    "        bits[1] = 1\n",
    "        for i in range(2,num+1):\n",
    "            bits[i] = bits[i & (i-1)] + 1 # i和(i-1)做与操作的时候意味着清除i最后一位的1,且i&(i-1)<i，所以可以用类似动态规划的方法操作\n",
    "        return bits"
   ]
  },
  {
   "cell_type": "markdown",
   "metadata": {},
   "source": [
    "### [51. N-Queens](https://leetcode.com/problems/n-queens/)\n",
    "### [52. N-Queens II](https://leetcode.com/problems/n-queens-ii/)  \n",
    "\n",
    "N皇后问题新解法（第52题只需要返回有几种解法即可）"
   ]
  },
  {
   "cell_type": "code",
   "execution_count": 1,
   "metadata": {},
   "outputs": [],
   "source": [
    "# 原始DFS\n",
    "class Solution:\n",
    "    def solveNQueens(self, n):\n",
    "        if n<1: return []\n",
    "        self.result = []\n",
    "        self.cols = set(); self.pie = set(); self.na = set()\n",
    "        self.DFS(n,0,[])\n",
    "        return self._generate_result(n)   # 生成棋盘的此函数省略\n",
    "    \n",
    "    def DFS(self, n, row, cur_state):   # cur_state是一个列表，记录了每一行中皇后所在的列数\n",
    "        if row >= n:\n",
    "            self.result.append(cur_state)\n",
    "            return\n",
    "        \n",
    "        for col in range(n):\n",
    "            if col in self.cols or row+col in self.pie or row-col in self.na:\n",
    "                # go die!\n",
    "                continue\n",
    "            \n",
    "            # update the flags\n",
    "            self.cols.add(col)\n",
    "            self.pie.add(row + col)\n",
    "            self.na.add(row - col)\n",
    "            \n",
    "            self.DFS(n, row + 1, cur_state + [col])\n",
    "            \n",
    "            self.cols.remove(col)\n",
    "            self.pie.remove(row + col)\n",
    "            self.na.remove(row - col)"
   ]
  },
  {
   "cell_type": "code",
   "execution_count": 2,
   "metadata": {},
   "outputs": [],
   "source": [
    "# 52题\n",
    "# 位运算解法\n",
    "class Solution:\n",
    "    def totalNQueens(self, n):\n",
    "        if n < 1: return []\n",
    "        self.count = 0\n",
    "        self.DFS(n, 0, 0, 0, 0)\n",
    "        return self.count\n",
    "    \n",
    "    def DFS(self, n, row, cols, pie, na):\n",
    "        # cols,pie,na形式都是[0,0,1,0，..]的格式，其中0代表可以放置皇后，1代表不能放置皇后\n",
    "        # recursion terminator\n",
    "        if row >= n:\n",
    "            self.count += 1\n",
    "            return\n",
    "        \n",
    "        bits = (~(cols | pie | na)) & ((1 << n) - 1)\n",
    "        # 此步骤的操作是，将0和1互换，使得1代表可以放置皇后的位置，0代表不可以放置皇后的位置\n",
    "        # (1<<n) -1 的结果是 00000001111（n为4的时候）\n",
    "        # bits类似于[1,0,0,1]这样的格式，指的就是列出可放置皇后的所有位置\n",
    "        \n",
    "        while bits:\n",
    "            p = bits & -bits \n",
    "            # 这个操作可以得到最低位的1，也就是取出最右边那个可以放皇后的位置，如 28 & -28（28是11100）得到结果是00100.\n",
    "            self.DFS(n, row + 1, cols | p, (pie | p) << 1, (na | p) >> 1)\n",
    "            bits = bits & (bits - 1) # 去掉最低位的1，例如将11100变为11000"
   ]
  },
  {
   "cell_type": "markdown",
   "metadata": {},
   "source": [
    "### [120. Triangle](https://leetcode.com/problems/triangle/)\n",
    "\n",
    "动态规划\n",
    "\n",
    "Given a triangle, find the minimum path sum from top to bottom. Each step you may move to adjacent numbers on the row below."
   ]
  },
  {
   "cell_type": "code",
   "execution_count": 1,
   "metadata": {},
   "outputs": [],
   "source": [
    "# 自低向上做DP\n",
    "class Solution():\n",
    "    def minimumTotal(self, triangle):\n",
    "        if not triangle: return 0\n",
    "        \n",
    "        res = triangle.copy()\n",
    "        for i in range(len(triangle)-2, -1, -1):\n",
    "            for j in range(len(triangle[i])):\n",
    "                res[i][j] = min(res[i+1][j], res[i+1][j+1]) + triangle[i][j]\n",
    "        \n",
    "        return res[0][0]\n",
    "\n",
    "# OR可以不用引入res，直接在triangle基础上做覆盖\n",
    "\n",
    "class Solution():\n",
    "    def minimumTotal(self, triangle):\n",
    "        if not triangle: return 0\n",
    "        for i in range(len(triangle)-2, -1, -1):\n",
    "            for j in range(len(triangle[i])):\n",
    "                triangle[i][j] = min(triangle[i+1][j], triangle[i+1][j+1]) + triangle[i][j]\n",
    "        return triangle[0][0]"
   ]
  },
  {
   "cell_type": "markdown",
   "metadata": {},
   "source": [
    "### [152. Maximum Product Subarray](https://leetcode.com/problems/maximum-product-subarray/)\n",
    "\n",
    "Given an integer array nums, find the contiguous subarray within an array (containing at least one number) which has the largest product."
   ]
  },
  {
   "cell_type": "code",
   "execution_count": 3,
   "metadata": {},
   "outputs": [],
   "source": [
    "class Solution:\n",
    "    def maxProduct(self, nums):\n",
    "        if nums is None: return 0\n",
    "        \n",
    "        dp = [[0 for _ in range(2)] for _ in range(2)] \n",
    "        # dp = [[0,0],[0,0]]，由于只需要上一时刻的状态，因此只分配一个2*2数组，这种就叫做滚动数组\n",
    "        \n",
    "        dp[0][0], dp[0][1], res = nums[0], nums[0], nums[0]\n",
    "        \n",
    "        for i in range(1, len(nums)):\n",
    "            x, y = i % 2, (i-1) % 2 # x,y 不断 1，0// 0, 1变换\n",
    "            dp[x][0] = max(dp[y][0] * nums[i], dp[y][1] * nums[i], nums[i])\n",
    "            dp[x][1] = min(dp[y][0] * nums[i], dp[y][1] * nums[i], nums[i])\n",
    "            # 如果不采用x,y互换减小内存分配的方法，dp[i][0]的含义是包含第i个元素的子序列的最大值\n",
    "            # dp[i][1]的含义是包含第i个元素的子序列的负的最大值（也就是最小值）\n",
    "            res = max(res, dp[x][0]) # 注意这一行是写在for循环里面的\n",
    "        return res"
   ]
  },
  {
   "cell_type": "markdown",
   "metadata": {},
   "source": [
    "### [72. Edit Distance](https://leetcode.com/problems/edit-distance/)\n",
    "\n",
    "Given two words word1 and word2, find the minimum number of operations required to convert word1 to word2.\n",
    "\n",
    "You have the following 3 operations permitted on a word:\n",
    "\n",
    "* Insert a character\n",
    "* Delete a character\n",
    "* Replace a character"
   ]
  },
  {
   "cell_type": "markdown",
   "metadata": {},
   "source": [
    "$DP[i][j]$的含义是，word1的前i个字符变成word2的前几个字符的最少步数，最后返回结果是DP[m][n],m为word1的长度，n为word2的长度\n",
    "\n",
    "如果$word1[i] == word2[j]$\n",
    "\n",
    "则$DP[i,j] = DP[i-1,j-1]$\n",
    "\n",
    "否则$DP[i,j] = 1 + Min(DP[i-1,j],DP[i,j-1],DP[i-1,j-1])$\n",
    "\n",
    "$DP[i-1,j]$为删除word1的操作，$DP[i,j-1]$为插入word1的操作，$DP[i-1,j-1]$为替换word1的操作"
   ]
  },
  {
   "cell_type": "code",
   "execution_count": 7,
   "metadata": {},
   "outputs": [],
   "source": [
    "class Solution:\n",
    "    def minDistance(self, word1, word2):\n",
    "        \n",
    "        m, n = len(word1), len(word2)\n",
    "        dp = [[0 for _ in range(n+1)] for _ in range(m+1)]\n",
    "        \n",
    "        for i in range(m+1): dp[i][0] = i  # 删除i个字符\n",
    "        for j in range(n+1): dp[0][j] = j  # 插入j个字符\n",
    "            \n",
    "        for i in range(1, m+1):\n",
    "            for j in range(1, n+1):\n",
    "                dp[i][j] = min(dp[i-1][j-1] + (0 if word1[i-1] == word2[j-1] else 1),\n",
    "                              dp[i-1][j] + 1,\n",
    "                              dp[i][j-1] + 1)\n",
    "        return dp[m][n]"
   ]
  },
  {
   "cell_type": "markdown",
   "metadata": {},
   "source": [
    "### [200. Number of Islands](https://leetcode.com/problems/number-of-islands/)\n",
    "\n",
    "Given a 2d grid map of '1's (land) and '0's (water), count the number of islands. An island is surrounded by water and is formed by connecting adjacent lands horizontally or vertically. You may assume all four edges of the grid are all surrounded by water."
   ]
  },
  {
   "cell_type": "code",
   "execution_count": 10,
   "metadata": {},
   "outputs": [],
   "source": [
    "# 染色法，也就是遍历所有点，如果是1就通过DFS或BFS的方法进行搜索把其上下左右都为1的点变成0，直到其上下左右都没有1了\n",
    "# 然后count+1，继续往后遍历，最终输出count\n",
    "class Solution():\n",
    "    \n",
    "    def numIslands(self, grid):\n",
    "        if not grid or not grid[0]: return 0\n",
    "        self.dx = [-1, 1, 0, 0]\n",
    "        self.dy = [0, 0, -1, 1]\n",
    "        self.max_x = len(grid); self.max_y = len(grid[0]); self.grid = grid;\n",
    "        self.visited = set() # 这个地方用一个set，使得原来的grid不会被破坏\n",
    "        return sum([self.floodfill_DFS(i, j) for i in range(self.max_x) for j in range(self.max_y)])\n",
    "    \n",
    "    def floodfill_DFS(self, x, y):\n",
    "        if not self._is_valid(x, y):\n",
    "            return 0\n",
    "        self.visited.add((x, y))\n",
    "        for k in range(4):\n",
    "            self.floodfill_DFS(x + self.dx[k], y + self.dy[k])\n",
    "        return 1\n",
    "    \n",
    "    def _is_valid(self, x, y):\n",
    "        if x<0 or x>=self.max_x or y<0 or y>= self.max_y:\n",
    "            return False\n",
    "        if self.grid[x][y] == '0' or ((x, y) in self.visited):\n",
    "            return False\n",
    "        return True\n",
    "    \n",
    "# 上面是DFS代码，如果要换成BFS：\n",
    "    def floodfill_BFS(self, x, y):\n",
    "        if not self._is_valid(x, y):\n",
    "            return 0\n",
    "        \n",
    "        self.visited.add((x, y))\n",
    "        queue = collections.deque()\n",
    "        queue.append((x, y))\n",
    "        \n",
    "        while queue:\n",
    "            cur_x, cur_y = queue.popleft()\n",
    "            for i in range(4):\n",
    "                new_x, new_y = cur_x + self.dx[i], cur_y + dy[i]\n",
    "                if self._is_valid(new_x, new_y):\n",
    "                    self.visited.add((new_x, new_y))\n",
    "                    queue.append((new_x, new_y))\n",
    "        return 1\n",
    "\n",
    "# 并查集解法暂放\n",
    "# https://leetcode-cn.com/problems/number-of-islands/solution/"
   ]
  },
  {
   "cell_type": "markdown",
   "metadata": {},
   "source": [
    "### [146. LRU Cache](https://leetcode.com/problems/lru-cache/)\n",
    "\n",
    "Design and implement a data structure for Least Recently Used (LRU) cache. It should support the following operations: get and put.\n",
    "\n",
    "get(key) - Get the value (will always be positive) of the key if the key exists in the cache, otherwise return -1.\n",
    "put(key, value) - Set or insert the value if the key is not already present. When the cache reached its capacity, it should invalidate the least recently used item before inserting a new item.\n",
    "\n",
    "The cache is initialized with a positive capacity.\n",
    "\n",
    "Follow up:\n",
    "Could you do both operations in O(1) time complexity?"
   ]
  },
  {
   "cell_type": "code",
   "execution_count": 30,
   "metadata": {},
   "outputs": [],
   "source": [
    "class LRUCache:\n",
    "\n",
    "    def __init__(self, capacity):\n",
    "        self.dic = collections.OrderedDict()   \n",
    "        # OrderedDict是有序字典，正常字典的键值对都是无序的\n",
    "        self.remain = capacity\n",
    "        \n",
    "\n",
    "    def get(self, key):\n",
    "        if key not in self.dic:\n",
    "            return -1\n",
    "        v = self.dic.pop(key)\n",
    "        self.dic[key] = v   # set key as the newest one\n",
    "        return v\n",
    "\n",
    "    def put(self, key, value):\n",
    "        if key in self.dic:\n",
    "            self.dic.pop(key)\n",
    "        else:\n",
    "            if self.remain > 0:\n",
    "                self.remain -= 1\n",
    "            else:   # self.dic is full\n",
    "                self.dic.popitem(last=False)  # 最先进去的位于第一个位置，将其pop掉\n",
    "        self.dic[key] = value\n",
    "        \n",
    "# Your LRUCache object will be instantiated and called as such:\n",
    "# obj = LRUCache(capacity)\n",
    "# param_1 = obj.get(key)\n",
    "# obj.put(key,value)"
   ]
  }
 ],
 "metadata": {
  "kernelspec": {
   "display_name": "Python 3",
   "language": "python",
   "name": "python3"
  },
  "language_info": {
   "codemirror_mode": {
    "name": "ipython",
    "version": 3
   },
   "file_extension": ".py",
   "mimetype": "text/x-python",
   "name": "python",
   "nbconvert_exporter": "python",
   "pygments_lexer": "ipython3",
   "version": "3.5.5"
  },
  "widgets": {
   "state": {},
   "version": "1.1.2"
  }
 },
 "nbformat": 4,
 "nbformat_minor": 2
}
